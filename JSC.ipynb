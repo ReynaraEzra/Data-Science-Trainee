{
  "nbformat": 4,
  "nbformat_minor": 0,
  "metadata": {
    "colab": {
      "name": "JSC.ipynb",
      "provenance": [],
      "mount_file_id": "1w8zCnE9y1ifupwcCKlHiGQwI1RsKIBOB",
      "authorship_tag": "ABX9TyMBZLD464Oeg41z173mN0Hu",
      "include_colab_link": true
    },
    "kernelspec": {
      "name": "python3",
      "display_name": "Python 3"
    },
    "language_info": {
      "name": "python"
    }
  },
  "cells": [
    {
      "cell_type": "markdown",
      "metadata": {
        "id": "view-in-github",
        "colab_type": "text"
      },
      "source": [
        "<a href=\"https://colab.research.google.com/github/ReynaraEzra/Data-Science-Trainee/blob/main/JSC.ipynb\" target=\"_parent\"><img src=\"https://colab.research.google.com/assets/colab-badge.svg\" alt=\"Open In Colab\"/></a>"
      ]
    },
    {
      "cell_type": "code",
      "metadata": {
        "id": "OAXoJMUIZURz"
      },
      "source": [
        "import pandas as pd"
      ],
      "execution_count": 1,
      "outputs": []
    },
    {
      "cell_type": "code",
      "metadata": {
        "colab": {
          "base_uri": "https://localhost:8080/",
          "height": 204
        },
        "id": "6nsxwUgda8Wo",
        "outputId": "c256bb29-573e-4d5f-f68d-042feeefbdc3"
      },
      "source": [
        "df = pd.read_csv(\"/content/covid_19_data.csv\", sep=\",\")\n",
        "df.head()"
      ],
      "execution_count": 6,
      "outputs": [
        {
          "output_type": "execute_result",
          "data": {
            "text/html": [
              "<div>\n",
              "<style scoped>\n",
              "    .dataframe tbody tr th:only-of-type {\n",
              "        vertical-align: middle;\n",
              "    }\n",
              "\n",
              "    .dataframe tbody tr th {\n",
              "        vertical-align: top;\n",
              "    }\n",
              "\n",
              "    .dataframe thead th {\n",
              "        text-align: right;\n",
              "    }\n",
              "</style>\n",
              "<table border=\"1\" class=\"dataframe\">\n",
              "  <thead>\n",
              "    <tr style=\"text-align: right;\">\n",
              "      <th></th>\n",
              "      <th>SNo</th>\n",
              "      <th>ObservationDate</th>\n",
              "      <th>Province/State</th>\n",
              "      <th>Country/Region</th>\n",
              "      <th>Last Update</th>\n",
              "      <th>Confirmed</th>\n",
              "      <th>Deaths</th>\n",
              "      <th>Recovered</th>\n",
              "    </tr>\n",
              "  </thead>\n",
              "  <tbody>\n",
              "    <tr>\n",
              "      <th>0</th>\n",
              "      <td>1</td>\n",
              "      <td>01/22/2020</td>\n",
              "      <td>Anhui</td>\n",
              "      <td>Mainland China</td>\n",
              "      <td>1/22/2020 17:00</td>\n",
              "      <td>1.0</td>\n",
              "      <td>0.0</td>\n",
              "      <td>0.0</td>\n",
              "    </tr>\n",
              "    <tr>\n",
              "      <th>1</th>\n",
              "      <td>2</td>\n",
              "      <td>01/22/2020</td>\n",
              "      <td>Beijing</td>\n",
              "      <td>Mainland China</td>\n",
              "      <td>1/22/2020 17:00</td>\n",
              "      <td>14.0</td>\n",
              "      <td>0.0</td>\n",
              "      <td>0.0</td>\n",
              "    </tr>\n",
              "    <tr>\n",
              "      <th>2</th>\n",
              "      <td>3</td>\n",
              "      <td>01/22/2020</td>\n",
              "      <td>Chongqing</td>\n",
              "      <td>Mainland China</td>\n",
              "      <td>1/22/2020 17:00</td>\n",
              "      <td>6.0</td>\n",
              "      <td>0.0</td>\n",
              "      <td>0.0</td>\n",
              "    </tr>\n",
              "    <tr>\n",
              "      <th>3</th>\n",
              "      <td>4</td>\n",
              "      <td>01/22/2020</td>\n",
              "      <td>Fujian</td>\n",
              "      <td>Mainland China</td>\n",
              "      <td>1/22/2020 17:00</td>\n",
              "      <td>1.0</td>\n",
              "      <td>0.0</td>\n",
              "      <td>0.0</td>\n",
              "    </tr>\n",
              "    <tr>\n",
              "      <th>4</th>\n",
              "      <td>5</td>\n",
              "      <td>01/22/2020</td>\n",
              "      <td>Gansu</td>\n",
              "      <td>Mainland China</td>\n",
              "      <td>1/22/2020 17:00</td>\n",
              "      <td>0.0</td>\n",
              "      <td>0.0</td>\n",
              "      <td>0.0</td>\n",
              "    </tr>\n",
              "  </tbody>\n",
              "</table>\n",
              "</div>"
            ],
            "text/plain": [
              "   SNo ObservationDate Province/State  ... Confirmed Deaths  Recovered\n",
              "0    1      01/22/2020          Anhui  ...       1.0    0.0        0.0\n",
              "1    2      01/22/2020        Beijing  ...      14.0    0.0        0.0\n",
              "2    3      01/22/2020      Chongqing  ...       6.0    0.0        0.0\n",
              "3    4      01/22/2020         Fujian  ...       1.0    0.0        0.0\n",
              "4    5      01/22/2020          Gansu  ...       0.0    0.0        0.0\n",
              "\n",
              "[5 rows x 8 columns]"
            ]
          },
          "metadata": {
            "tags": []
          },
          "execution_count": 6
        }
      ]
    },
    {
      "cell_type": "code",
      "metadata": {
        "colab": {
          "base_uri": "https://localhost:8080/",
          "height": 204
        },
        "id": "1dztDr3NcKAN",
        "outputId": "00a55d47-8394-43a4-e16d-f487225d419b"
      },
      "source": [
        "df.tail()"
      ],
      "execution_count": 10,
      "outputs": [
        {
          "output_type": "execute_result",
          "data": {
            "text/html": [
              "<div>\n",
              "<style scoped>\n",
              "    .dataframe tbody tr th:only-of-type {\n",
              "        vertical-align: middle;\n",
              "    }\n",
              "\n",
              "    .dataframe tbody tr th {\n",
              "        vertical-align: top;\n",
              "    }\n",
              "\n",
              "    .dataframe thead th {\n",
              "        text-align: right;\n",
              "    }\n",
              "</style>\n",
              "<table border=\"1\" class=\"dataframe\">\n",
              "  <thead>\n",
              "    <tr style=\"text-align: right;\">\n",
              "      <th></th>\n",
              "      <th>SNo</th>\n",
              "      <th>ObservationDate</th>\n",
              "      <th>Province/State</th>\n",
              "      <th>Country/Region</th>\n",
              "      <th>Last Update</th>\n",
              "      <th>Confirmed</th>\n",
              "      <th>Deaths</th>\n",
              "      <th>Recovered</th>\n",
              "    </tr>\n",
              "  </thead>\n",
              "  <tbody>\n",
              "    <tr>\n",
              "      <th>258145</th>\n",
              "      <td>258146</td>\n",
              "      <td>03/27/2021</td>\n",
              "      <td>Tibet</td>\n",
              "      <td>Mainland China</td>\n",
              "      <td>2021-04-02 15:13:53</td>\n",
              "      <td>1.0</td>\n",
              "      <td>0.0</td>\n",
              "      <td>1.0</td>\n",
              "    </tr>\n",
              "    <tr>\n",
              "      <th>258146</th>\n",
              "      <td>258147</td>\n",
              "      <td>03/27/2021</td>\n",
              "      <td>Tlaxcala</td>\n",
              "      <td>Mexico</td>\n",
              "      <td>2021-04-02 15:13:53</td>\n",
              "      <td>18392.0</td>\n",
              "      <td>2283.0</td>\n",
              "      <td>0.0</td>\n",
              "    </tr>\n",
              "    <tr>\n",
              "      <th>258147</th>\n",
              "      <td>258148</td>\n",
              "      <td>03/27/2021</td>\n",
              "      <td>Tocantins</td>\n",
              "      <td>Brazil</td>\n",
              "      <td>2021-04-02 15:13:53</td>\n",
              "      <td>138206.0</td>\n",
              "      <td>1942.0</td>\n",
              "      <td>118577.0</td>\n",
              "    </tr>\n",
              "    <tr>\n",
              "      <th>258148</th>\n",
              "      <td>258149</td>\n",
              "      <td>03/27/2021</td>\n",
              "      <td>Tochigi</td>\n",
              "      <td>Japan</td>\n",
              "      <td>2021-04-02 15:13:53</td>\n",
              "      <td>4534.0</td>\n",
              "      <td>71.0</td>\n",
              "      <td>4271.0</td>\n",
              "    </tr>\n",
              "    <tr>\n",
              "      <th>258149</th>\n",
              "      <td>258150</td>\n",
              "      <td>03/27/2021</td>\n",
              "      <td>Tokushima</td>\n",
              "      <td>Japan</td>\n",
              "      <td>2021-04-02</td>\n",
              "      <td>NaN</td>\n",
              "      <td>NaN</td>\n",
              "      <td>NaN</td>\n",
              "    </tr>\n",
              "  </tbody>\n",
              "</table>\n",
              "</div>"
            ],
            "text/plain": [
              "           SNo ObservationDate Province/State  ... Confirmed  Deaths  Recovered\n",
              "258145  258146      03/27/2021          Tibet  ...       1.0     0.0        1.0\n",
              "258146  258147      03/27/2021       Tlaxcala  ...   18392.0  2283.0        0.0\n",
              "258147  258148      03/27/2021      Tocantins  ...  138206.0  1942.0   118577.0\n",
              "258148  258149      03/27/2021        Tochigi  ...    4534.0    71.0     4271.0\n",
              "258149  258150      03/27/2021      Tokushima  ...       NaN     NaN        NaN\n",
              "\n",
              "[5 rows x 8 columns]"
            ]
          },
          "metadata": {
            "tags": []
          },
          "execution_count": 10
        }
      ]
    },
    {
      "cell_type": "code",
      "metadata": {
        "colab": {
          "base_uri": "https://localhost:8080/"
        },
        "id": "U_PqR5N6boi_",
        "outputId": "13d47c1c-360c-4e46-d586-dbcbc7afa98e"
      },
      "source": [
        "df.info()"
      ],
      "execution_count": 8,
      "outputs": [
        {
          "output_type": "stream",
          "text": [
            "<class 'pandas.core.frame.DataFrame'>\n",
            "RangeIndex: 258150 entries, 0 to 258149\n",
            "Data columns (total 8 columns):\n",
            " #   Column           Non-Null Count   Dtype  \n",
            "---  ------           --------------   -----  \n",
            " 0   SNo              258150 non-null  int64  \n",
            " 1   ObservationDate  258150 non-null  object \n",
            " 2   Province/State   190886 non-null  object \n",
            " 3   Country/Region   258150 non-null  object \n",
            " 4   Last Update      258150 non-null  object \n",
            " 5   Confirmed        258149 non-null  float64\n",
            " 6   Deaths           258149 non-null  float64\n",
            " 7   Recovered        258149 non-null  float64\n",
            "dtypes: float64(3), int64(1), object(4)\n",
            "memory usage: 15.8+ MB\n"
          ],
          "name": "stdout"
        }
      ]
    },
    {
      "cell_type": "code",
      "metadata": {
        "colab": {
          "base_uri": "https://localhost:8080/"
        },
        "id": "9Njj1x1Tbxbq",
        "outputId": "e59d2b5e-da1b-4c4e-f712-483b12f9128e"
      },
      "source": [
        "df['Country/Region'].value_counts()"
      ],
      "execution_count": 9,
      "outputs": [
        {
          "output_type": "execute_result",
          "data": {
            "text/plain": [
              "Russia                 25008\n",
              "US                     23078\n",
              "Japan                  14964\n",
              "Mainland China         13738\n",
              "India                  10846\n",
              "                       ...  \n",
              "('St. Martin',)            1\n",
              "East Timor                 1\n",
              "Republic of Ireland        1\n",
              "North Ireland              1\n",
              " Azerbaijan                1\n",
              "Name: Country/Region, Length: 229, dtype: int64"
            ]
          },
          "metadata": {
            "tags": []
          },
          "execution_count": 9
        }
      ]
    },
    {
      "cell_type": "code",
      "metadata": {
        "colab": {
          "base_uri": "https://localhost:8080/",
          "height": 306
        },
        "id": "X26uc0WMcD6y",
        "outputId": "b0e7f986-385c-4345-bd1b-f5a1e027fadc"
      },
      "source": [
        "dff = pd.read_excel(\"/content/Daily Update Data Agregat Covid-19 Jakarta.xlsx\", sheet_name=\"Data Jakarta\")\n",
        "dff.head()"
      ],
      "execution_count": 11,
      "outputs": [
        {
          "output_type": "execute_result",
          "data": {
            "text/html": [
              "<div>\n",
              "<style scoped>\n",
              "    .dataframe tbody tr th:only-of-type {\n",
              "        vertical-align: middle;\n",
              "    }\n",
              "\n",
              "    .dataframe tbody tr th {\n",
              "        vertical-align: top;\n",
              "    }\n",
              "\n",
              "    .dataframe thead th {\n",
              "        text-align: right;\n",
              "    }\n",
              "</style>\n",
              "<table border=\"1\" class=\"dataframe\">\n",
              "  <thead>\n",
              "    <tr style=\"text-align: right;\">\n",
              "      <th></th>\n",
              "      <th>Tanggal</th>\n",
              "      <th>Jam</th>\n",
              "      <th>Tanggal Jam</th>\n",
              "      <th>Meninggal</th>\n",
              "      <th>Sembuh</th>\n",
              "      <th>Self Isolation</th>\n",
              "      <th>Masih Perawatan</th>\n",
              "      <th>Total Pasien</th>\n",
              "      <th>Positif Harian</th>\n",
              "      <th>Positif Aktif</th>\n",
              "      <th>Sembuh Harian</th>\n",
              "      <th>Tanpa Gejala</th>\n",
              "      <th>Bergejala</th>\n",
              "      <th>Belum Ada Data</th>\n",
              "    </tr>\n",
              "  </thead>\n",
              "  <tbody>\n",
              "    <tr>\n",
              "      <th>0</th>\n",
              "      <td>2020-03-01</td>\n",
              "      <td>NaN</td>\n",
              "      <td>2020-03-01 18:00:00</td>\n",
              "      <td>0</td>\n",
              "      <td>0</td>\n",
              "      <td>0</td>\n",
              "      <td>0</td>\n",
              "      <td>0</td>\n",
              "      <td>0</td>\n",
              "      <td>0</td>\n",
              "      <td>0</td>\n",
              "      <td>NaN</td>\n",
              "      <td>NaN</td>\n",
              "      <td>NaN</td>\n",
              "    </tr>\n",
              "    <tr>\n",
              "      <th>1</th>\n",
              "      <td>2020-03-02</td>\n",
              "      <td>NaN</td>\n",
              "      <td>2020-03-02 18:00:00</td>\n",
              "      <td>0</td>\n",
              "      <td>0</td>\n",
              "      <td>0</td>\n",
              "      <td>0</td>\n",
              "      <td>0</td>\n",
              "      <td>0</td>\n",
              "      <td>0</td>\n",
              "      <td>0</td>\n",
              "      <td>NaN</td>\n",
              "      <td>NaN</td>\n",
              "      <td>NaN</td>\n",
              "    </tr>\n",
              "    <tr>\n",
              "      <th>2</th>\n",
              "      <td>2020-03-03</td>\n",
              "      <td>NaN</td>\n",
              "      <td>2020-03-03 18:00:00</td>\n",
              "      <td>1</td>\n",
              "      <td>0</td>\n",
              "      <td>0</td>\n",
              "      <td>2</td>\n",
              "      <td>3</td>\n",
              "      <td>3</td>\n",
              "      <td>2</td>\n",
              "      <td>0</td>\n",
              "      <td>NaN</td>\n",
              "      <td>NaN</td>\n",
              "      <td>NaN</td>\n",
              "    </tr>\n",
              "    <tr>\n",
              "      <th>3</th>\n",
              "      <td>2020-03-04</td>\n",
              "      <td>NaN</td>\n",
              "      <td>2020-03-04 18:00:00</td>\n",
              "      <td>1</td>\n",
              "      <td>0</td>\n",
              "      <td>0</td>\n",
              "      <td>2</td>\n",
              "      <td>3</td>\n",
              "      <td>0</td>\n",
              "      <td>2</td>\n",
              "      <td>0</td>\n",
              "      <td>NaN</td>\n",
              "      <td>NaN</td>\n",
              "      <td>NaN</td>\n",
              "    </tr>\n",
              "    <tr>\n",
              "      <th>4</th>\n",
              "      <td>2020-03-05</td>\n",
              "      <td>NaN</td>\n",
              "      <td>2020-03-05 18:00:00</td>\n",
              "      <td>3</td>\n",
              "      <td>0</td>\n",
              "      <td>0</td>\n",
              "      <td>4</td>\n",
              "      <td>7</td>\n",
              "      <td>4</td>\n",
              "      <td>4</td>\n",
              "      <td>0</td>\n",
              "      <td>NaN</td>\n",
              "      <td>NaN</td>\n",
              "      <td>NaN</td>\n",
              "    </tr>\n",
              "  </tbody>\n",
              "</table>\n",
              "</div>"
            ],
            "text/plain": [
              "     Tanggal  Jam         Tanggal Jam  ...  Tanpa Gejala  Bergejala  Belum Ada Data\n",
              "0 2020-03-01  NaN 2020-03-01 18:00:00  ...           NaN        NaN             NaN\n",
              "1 2020-03-02  NaN 2020-03-02 18:00:00  ...           NaN        NaN             NaN\n",
              "2 2020-03-03  NaN 2020-03-03 18:00:00  ...           NaN        NaN             NaN\n",
              "3 2020-03-04  NaN 2020-03-04 18:00:00  ...           NaN        NaN             NaN\n",
              "4 2020-03-05  NaN 2020-03-05 18:00:00  ...           NaN        NaN             NaN\n",
              "\n",
              "[5 rows x 14 columns]"
            ]
          },
          "metadata": {
            "tags": []
          },
          "execution_count": 11
        }
      ]
    },
    {
      "cell_type": "code",
      "metadata": {
        "colab": {
          "base_uri": "https://localhost:8080/",
          "height": 306
        },
        "id": "OL3hbmP-c9j2",
        "outputId": "74d2a997-6aef-4e2b-f57b-fe184772d2e7"
      },
      "source": [
        "dff.tail()"
      ],
      "execution_count": 12,
      "outputs": [
        {
          "output_type": "execute_result",
          "data": {
            "text/html": [
              "<div>\n",
              "<style scoped>\n",
              "    .dataframe tbody tr th:only-of-type {\n",
              "        vertical-align: middle;\n",
              "    }\n",
              "\n",
              "    .dataframe tbody tr th {\n",
              "        vertical-align: top;\n",
              "    }\n",
              "\n",
              "    .dataframe thead th {\n",
              "        text-align: right;\n",
              "    }\n",
              "</style>\n",
              "<table border=\"1\" class=\"dataframe\">\n",
              "  <thead>\n",
              "    <tr style=\"text-align: right;\">\n",
              "      <th></th>\n",
              "      <th>Tanggal</th>\n",
              "      <th>Jam</th>\n",
              "      <th>Tanggal Jam</th>\n",
              "      <th>Meninggal</th>\n",
              "      <th>Sembuh</th>\n",
              "      <th>Self Isolation</th>\n",
              "      <th>Masih Perawatan</th>\n",
              "      <th>Total Pasien</th>\n",
              "      <th>Positif Harian</th>\n",
              "      <th>Positif Aktif</th>\n",
              "      <th>Sembuh Harian</th>\n",
              "      <th>Tanpa Gejala</th>\n",
              "      <th>Bergejala</th>\n",
              "      <th>Belum Ada Data</th>\n",
              "    </tr>\n",
              "  </thead>\n",
              "  <tbody>\n",
              "    <tr>\n",
              "      <th>513</th>\n",
              "      <td>2021-07-27</td>\n",
              "      <td>8.0</td>\n",
              "      <td>2021-07-27 07:59:59.712</td>\n",
              "      <td>11606</td>\n",
              "      <td>746087</td>\n",
              "      <td>26961</td>\n",
              "      <td>13848</td>\n",
              "      <td>798502</td>\n",
              "      <td>3567</td>\n",
              "      <td>40809</td>\n",
              "      <td>14583</td>\n",
              "      <td>8911.0</td>\n",
              "      <td>21290.0</td>\n",
              "      <td>10608.0</td>\n",
              "    </tr>\n",
              "    <tr>\n",
              "      <th>514</th>\n",
              "      <td>2021-07-28</td>\n",
              "      <td>8.0</td>\n",
              "      <td>2021-07-28 07:59:59.712</td>\n",
              "      <td>11688</td>\n",
              "      <td>757122</td>\n",
              "      <td>22332</td>\n",
              "      <td>12885</td>\n",
              "      <td>804027</td>\n",
              "      <td>5525</td>\n",
              "      <td>35217</td>\n",
              "      <td>11035</td>\n",
              "      <td>5114.0</td>\n",
              "      <td>14320.0</td>\n",
              "      <td>15783.0</td>\n",
              "    </tr>\n",
              "    <tr>\n",
              "      <th>515</th>\n",
              "      <td>2021-07-29</td>\n",
              "      <td>8.0</td>\n",
              "      <td>2021-07-29 07:59:59.712</td>\n",
              "      <td>11844</td>\n",
              "      <td>768562</td>\n",
              "      <td>16676</td>\n",
              "      <td>10790</td>\n",
              "      <td>807872</td>\n",
              "      <td>3845</td>\n",
              "      <td>27466</td>\n",
              "      <td>11440</td>\n",
              "      <td>1630.0</td>\n",
              "      <td>7060.0</td>\n",
              "      <td>18776.0</td>\n",
              "    </tr>\n",
              "    <tr>\n",
              "      <th>516</th>\n",
              "      <td>2021-07-30</td>\n",
              "      <td>8.0</td>\n",
              "      <td>2021-07-30 07:59:59.712</td>\n",
              "      <td>11952</td>\n",
              "      <td>779720</td>\n",
              "      <td>11264</td>\n",
              "      <td>8390</td>\n",
              "      <td>811326</td>\n",
              "      <td>3454</td>\n",
              "      <td>19654</td>\n",
              "      <td>11158</td>\n",
              "      <td>2798.0</td>\n",
              "      <td>11212.0</td>\n",
              "      <td>5644.0</td>\n",
              "    </tr>\n",
              "    <tr>\n",
              "      <th>517</th>\n",
              "      <td>2021-07-31</td>\n",
              "      <td>8.0</td>\n",
              "      <td>2021-07-31 07:59:59.712</td>\n",
              "      <td>12135</td>\n",
              "      <td>784668</td>\n",
              "      <td>10134</td>\n",
              "      <td>7716</td>\n",
              "      <td>814653</td>\n",
              "      <td>3327</td>\n",
              "      <td>17850</td>\n",
              "      <td>4948</td>\n",
              "      <td>1784.0</td>\n",
              "      <td>7157.0</td>\n",
              "      <td>8909.0</td>\n",
              "    </tr>\n",
              "  </tbody>\n",
              "</table>\n",
              "</div>"
            ],
            "text/plain": [
              "       Tanggal  Jam  ... Bergejala  Belum Ada Data\n",
              "513 2021-07-27  8.0  ...   21290.0         10608.0\n",
              "514 2021-07-28  8.0  ...   14320.0         15783.0\n",
              "515 2021-07-29  8.0  ...    7060.0         18776.0\n",
              "516 2021-07-30  8.0  ...   11212.0          5644.0\n",
              "517 2021-07-31  8.0  ...    7157.0          8909.0\n",
              "\n",
              "[5 rows x 14 columns]"
            ]
          },
          "metadata": {
            "tags": []
          },
          "execution_count": 12
        }
      ]
    },
    {
      "cell_type": "code",
      "metadata": {
        "colab": {
          "base_uri": "https://localhost:8080/"
        },
        "id": "Fv4rgxpsdBFs",
        "outputId": "4c2e36bc-ba37-4cb5-ba95-aa904739cd09"
      },
      "source": [
        "dff.info()"
      ],
      "execution_count": 13,
      "outputs": [
        {
          "output_type": "stream",
          "text": [
            "<class 'pandas.core.frame.DataFrame'>\n",
            "RangeIndex: 518 entries, 0 to 517\n",
            "Data columns (total 14 columns):\n",
            " #   Column           Non-Null Count  Dtype         \n",
            "---  ------           --------------  -----         \n",
            " 0   Tanggal          518 non-null    datetime64[ns]\n",
            " 1   Jam              499 non-null    float64       \n",
            " 2   Tanggal Jam      518 non-null    datetime64[ns]\n",
            " 3   Meninggal        518 non-null    int64         \n",
            " 4   Sembuh           518 non-null    int64         \n",
            " 5   Self Isolation   518 non-null    int64         \n",
            " 6   Masih Perawatan  518 non-null    int64         \n",
            " 7   Total Pasien     518 non-null    int64         \n",
            " 8   Positif Harian   518 non-null    int64         \n",
            " 9   Positif Aktif    518 non-null    int64         \n",
            " 10  Sembuh Harian    518 non-null    int64         \n",
            " 11  Tanpa Gejala     378 non-null    float64       \n",
            " 12  Bergejala        378 non-null    float64       \n",
            " 13  Belum Ada Data   378 non-null    float64       \n",
            "dtypes: datetime64[ns](2), float64(4), int64(8)\n",
            "memory usage: 56.8 KB\n"
          ],
          "name": "stdout"
        }
      ]
    },
    {
      "cell_type": "code",
      "metadata": {
        "colab": {
          "base_uri": "https://localhost:8080/",
          "height": 204
        },
        "id": "B4Tcy1aBdaEe",
        "outputId": "5c4e2b01-1919-44de-8b4c-5b2b5e545677"
      },
      "source": [
        "import pandas as pd\n",
        "data = pd.read_csv(\"/content/drive/MyDrive/DST/covid_19_data.csv\")\n",
        "data.head()"
      ],
      "execution_count": 176,
      "outputs": [
        {
          "output_type": "execute_result",
          "data": {
            "text/html": [
              "<div>\n",
              "<style scoped>\n",
              "    .dataframe tbody tr th:only-of-type {\n",
              "        vertical-align: middle;\n",
              "    }\n",
              "\n",
              "    .dataframe tbody tr th {\n",
              "        vertical-align: top;\n",
              "    }\n",
              "\n",
              "    .dataframe thead th {\n",
              "        text-align: right;\n",
              "    }\n",
              "</style>\n",
              "<table border=\"1\" class=\"dataframe\">\n",
              "  <thead>\n",
              "    <tr style=\"text-align: right;\">\n",
              "      <th></th>\n",
              "      <th>SNo</th>\n",
              "      <th>ObservationDate</th>\n",
              "      <th>Province/State</th>\n",
              "      <th>Country/Region</th>\n",
              "      <th>Last Update</th>\n",
              "      <th>Confirmed</th>\n",
              "      <th>Deaths</th>\n",
              "      <th>Recovered</th>\n",
              "    </tr>\n",
              "  </thead>\n",
              "  <tbody>\n",
              "    <tr>\n",
              "      <th>0</th>\n",
              "      <td>1</td>\n",
              "      <td>01/22/2020</td>\n",
              "      <td>Anhui</td>\n",
              "      <td>Mainland China</td>\n",
              "      <td>1/22/2020 17:00</td>\n",
              "      <td>1.0</td>\n",
              "      <td>0.0</td>\n",
              "      <td>0.0</td>\n",
              "    </tr>\n",
              "    <tr>\n",
              "      <th>1</th>\n",
              "      <td>2</td>\n",
              "      <td>01/22/2020</td>\n",
              "      <td>Beijing</td>\n",
              "      <td>Mainland China</td>\n",
              "      <td>1/22/2020 17:00</td>\n",
              "      <td>14.0</td>\n",
              "      <td>0.0</td>\n",
              "      <td>0.0</td>\n",
              "    </tr>\n",
              "    <tr>\n",
              "      <th>2</th>\n",
              "      <td>3</td>\n",
              "      <td>01/22/2020</td>\n",
              "      <td>Chongqing</td>\n",
              "      <td>Mainland China</td>\n",
              "      <td>1/22/2020 17:00</td>\n",
              "      <td>6.0</td>\n",
              "      <td>0.0</td>\n",
              "      <td>0.0</td>\n",
              "    </tr>\n",
              "    <tr>\n",
              "      <th>3</th>\n",
              "      <td>4</td>\n",
              "      <td>01/22/2020</td>\n",
              "      <td>Fujian</td>\n",
              "      <td>Mainland China</td>\n",
              "      <td>1/22/2020 17:00</td>\n",
              "      <td>1.0</td>\n",
              "      <td>0.0</td>\n",
              "      <td>0.0</td>\n",
              "    </tr>\n",
              "    <tr>\n",
              "      <th>4</th>\n",
              "      <td>5</td>\n",
              "      <td>01/22/2020</td>\n",
              "      <td>Gansu</td>\n",
              "      <td>Mainland China</td>\n",
              "      <td>1/22/2020 17:00</td>\n",
              "      <td>0.0</td>\n",
              "      <td>0.0</td>\n",
              "      <td>0.0</td>\n",
              "    </tr>\n",
              "  </tbody>\n",
              "</table>\n",
              "</div>"
            ],
            "text/plain": [
              "   SNo ObservationDate Province/State  ... Confirmed Deaths  Recovered\n",
              "0    1      01/22/2020          Anhui  ...       1.0    0.0        0.0\n",
              "1    2      01/22/2020        Beijing  ...      14.0    0.0        0.0\n",
              "2    3      01/22/2020      Chongqing  ...       6.0    0.0        0.0\n",
              "3    4      01/22/2020         Fujian  ...       1.0    0.0        0.0\n",
              "4    5      01/22/2020          Gansu  ...       0.0    0.0        0.0\n",
              "\n",
              "[5 rows x 8 columns]"
            ]
          },
          "metadata": {
            "tags": []
          },
          "execution_count": 176
        }
      ]
    },
    {
      "cell_type": "code",
      "metadata": {
        "colab": {
          "base_uri": "https://localhost:8080/",
          "height": 419
        },
        "id": "g2kSVz4OSVeo",
        "outputId": "9edff94e-ea24-422b-b5e7-c4081e215db7"
      },
      "source": [
        "data_jkt = data[data['Country/Region']=='Indonesia']\n",
        "data_jkt"
      ],
      "execution_count": 177,
      "outputs": [
        {
          "output_type": "execute_result",
          "data": {
            "text/html": [
              "<div>\n",
              "<style scoped>\n",
              "    .dataframe tbody tr th:only-of-type {\n",
              "        vertical-align: middle;\n",
              "    }\n",
              "\n",
              "    .dataframe tbody tr th {\n",
              "        vertical-align: top;\n",
              "    }\n",
              "\n",
              "    .dataframe thead th {\n",
              "        text-align: right;\n",
              "    }\n",
              "</style>\n",
              "<table border=\"1\" class=\"dataframe\">\n",
              "  <thead>\n",
              "    <tr style=\"text-align: right;\">\n",
              "      <th></th>\n",
              "      <th>SNo</th>\n",
              "      <th>ObservationDate</th>\n",
              "      <th>Province/State</th>\n",
              "      <th>Country/Region</th>\n",
              "      <th>Last Update</th>\n",
              "      <th>Confirmed</th>\n",
              "      <th>Deaths</th>\n",
              "      <th>Recovered</th>\n",
              "    </tr>\n",
              "  </thead>\n",
              "  <tbody>\n",
              "    <tr>\n",
              "      <th>3114</th>\n",
              "      <td>3115</td>\n",
              "      <td>03/02/2020</td>\n",
              "      <td>NaN</td>\n",
              "      <td>Indonesia</td>\n",
              "      <td>2020-03-02T18:03:04</td>\n",
              "      <td>2.0</td>\n",
              "      <td>0.0</td>\n",
              "      <td>0.0</td>\n",
              "    </tr>\n",
              "    <tr>\n",
              "      <th>3258</th>\n",
              "      <td>3259</td>\n",
              "      <td>03/03/2020</td>\n",
              "      <td>NaN</td>\n",
              "      <td>Indonesia</td>\n",
              "      <td>2020-03-02T18:03:04</td>\n",
              "      <td>2.0</td>\n",
              "      <td>0.0</td>\n",
              "      <td>0.0</td>\n",
              "    </tr>\n",
              "    <tr>\n",
              "      <th>3421</th>\n",
              "      <td>3422</td>\n",
              "      <td>03/04/2020</td>\n",
              "      <td>NaN</td>\n",
              "      <td>Indonesia</td>\n",
              "      <td>2020-03-02T18:03:04</td>\n",
              "      <td>2.0</td>\n",
              "      <td>0.0</td>\n",
              "      <td>0.0</td>\n",
              "    </tr>\n",
              "    <tr>\n",
              "      <th>3590</th>\n",
              "      <td>3591</td>\n",
              "      <td>03/05/2020</td>\n",
              "      <td>NaN</td>\n",
              "      <td>Indonesia</td>\n",
              "      <td>2020-03-02T18:03:04</td>\n",
              "      <td>2.0</td>\n",
              "      <td>0.0</td>\n",
              "      <td>0.0</td>\n",
              "    </tr>\n",
              "    <tr>\n",
              "      <th>3760</th>\n",
              "      <td>3761</td>\n",
              "      <td>03/06/2020</td>\n",
              "      <td>NaN</td>\n",
              "      <td>Indonesia</td>\n",
              "      <td>2020-03-06T12:33:03</td>\n",
              "      <td>4.0</td>\n",
              "      <td>0.0</td>\n",
              "      <td>0.0</td>\n",
              "    </tr>\n",
              "    <tr>\n",
              "      <th>...</th>\n",
              "      <td>...</td>\n",
              "      <td>...</td>\n",
              "      <td>...</td>\n",
              "      <td>...</td>\n",
              "      <td>...</td>\n",
              "      <td>...</td>\n",
              "      <td>...</td>\n",
              "      <td>...</td>\n",
              "    </tr>\n",
              "    <tr>\n",
              "      <th>302674</th>\n",
              "      <td>302675</td>\n",
              "      <td>05/25/2021</td>\n",
              "      <td>NaN</td>\n",
              "      <td>Indonesia</td>\n",
              "      <td>2021-05-26 04:20:35</td>\n",
              "      <td>1786187.0</td>\n",
              "      <td>49627.0</td>\n",
              "      <td>1642074.0</td>\n",
              "    </tr>\n",
              "    <tr>\n",
              "      <th>303439</th>\n",
              "      <td>303440</td>\n",
              "      <td>05/26/2021</td>\n",
              "      <td>NaN</td>\n",
              "      <td>Indonesia</td>\n",
              "      <td>2021-05-27 04:20:59</td>\n",
              "      <td>1791221.0</td>\n",
              "      <td>49771.0</td>\n",
              "      <td>1645263.0</td>\n",
              "    </tr>\n",
              "    <tr>\n",
              "      <th>304204</th>\n",
              "      <td>304205</td>\n",
              "      <td>05/27/2021</td>\n",
              "      <td>NaN</td>\n",
              "      <td>Indonesia</td>\n",
              "      <td>2021-05-28 04:20:36</td>\n",
              "      <td>1797499.0</td>\n",
              "      <td>49907.0</td>\n",
              "      <td>1649187.0</td>\n",
              "    </tr>\n",
              "    <tr>\n",
              "      <th>304969</th>\n",
              "      <td>304970</td>\n",
              "      <td>05/28/2021</td>\n",
              "      <td>NaN</td>\n",
              "      <td>Indonesia</td>\n",
              "      <td>2021-05-29 04:20:41</td>\n",
              "      <td>1803361.0</td>\n",
              "      <td>50100.0</td>\n",
              "      <td>1654557.0</td>\n",
              "    </tr>\n",
              "    <tr>\n",
              "      <th>305734</th>\n",
              "      <td>305735</td>\n",
              "      <td>05/29/2021</td>\n",
              "      <td>NaN</td>\n",
              "      <td>Indonesia</td>\n",
              "      <td>2021-05-30 04:20:55</td>\n",
              "      <td>1809926.0</td>\n",
              "      <td>50262.0</td>\n",
              "      <td>1659974.0</td>\n",
              "    </tr>\n",
              "  </tbody>\n",
              "</table>\n",
              "<p>454 rows × 8 columns</p>\n",
              "</div>"
            ],
            "text/plain": [
              "           SNo ObservationDate Province/State  ...  Confirmed   Deaths  Recovered\n",
              "3114      3115      03/02/2020            NaN  ...        2.0      0.0        0.0\n",
              "3258      3259      03/03/2020            NaN  ...        2.0      0.0        0.0\n",
              "3421      3422      03/04/2020            NaN  ...        2.0      0.0        0.0\n",
              "3590      3591      03/05/2020            NaN  ...        2.0      0.0        0.0\n",
              "3760      3761      03/06/2020            NaN  ...        4.0      0.0        0.0\n",
              "...        ...             ...            ...  ...        ...      ...        ...\n",
              "302674  302675      05/25/2021            NaN  ...  1786187.0  49627.0  1642074.0\n",
              "303439  303440      05/26/2021            NaN  ...  1791221.0  49771.0  1645263.0\n",
              "304204  304205      05/27/2021            NaN  ...  1797499.0  49907.0  1649187.0\n",
              "304969  304970      05/28/2021            NaN  ...  1803361.0  50100.0  1654557.0\n",
              "305734  305735      05/29/2021            NaN  ...  1809926.0  50262.0  1659974.0\n",
              "\n",
              "[454 rows x 8 columns]"
            ]
          },
          "metadata": {
            "tags": []
          },
          "execution_count": 177
        }
      ]
    },
    {
      "cell_type": "code",
      "metadata": {
        "colab": {
          "base_uri": "https://localhost:8080/"
        },
        "id": "OeGiWolrSetm",
        "outputId": "f99c24aa-4e17-4fdf-b5ee-9f6b92d42174"
      },
      "source": [
        "data_jkt.info()"
      ],
      "execution_count": 178,
      "outputs": [
        {
          "output_type": "stream",
          "text": [
            "<class 'pandas.core.frame.DataFrame'>\n",
            "Int64Index: 454 entries, 3114 to 305734\n",
            "Data columns (total 8 columns):\n",
            " #   Column           Non-Null Count  Dtype  \n",
            "---  ------           --------------  -----  \n",
            " 0   SNo              454 non-null    int64  \n",
            " 1   ObservationDate  454 non-null    object \n",
            " 2   Province/State   0 non-null      object \n",
            " 3   Country/Region   454 non-null    object \n",
            " 4   Last Update      454 non-null    object \n",
            " 5   Confirmed        454 non-null    float64\n",
            " 6   Deaths           454 non-null    float64\n",
            " 7   Recovered        454 non-null    float64\n",
            "dtypes: float64(3), int64(1), object(4)\n",
            "memory usage: 31.9+ KB\n"
          ],
          "name": "stdout"
        }
      ]
    },
    {
      "cell_type": "code",
      "metadata": {
        "colab": {
          "base_uri": "https://localhost:8080/"
        },
        "id": "kWdx2NYSi6KK",
        "outputId": "928d585a-bb1b-4a1d-d2ea-162e7ba0c4ac"
      },
      "source": [
        "data_jkt.drop(['SNo', 'Province/State', 'Last Update'], axis=1, inplace=True)"
      ],
      "execution_count": 179,
      "outputs": [
        {
          "output_type": "stream",
          "text": [
            "/usr/local/lib/python3.7/dist-packages/pandas/core/frame.py:4174: SettingWithCopyWarning: \n",
            "A value is trying to be set on a copy of a slice from a DataFrame\n",
            "\n",
            "See the caveats in the documentation: https://pandas.pydata.org/pandas-docs/stable/user_guide/indexing.html#returning-a-view-versus-a-copy\n",
            "  errors=errors,\n"
          ],
          "name": "stderr"
        }
      ]
    },
    {
      "cell_type": "code",
      "metadata": {
        "id": "sGe1sxHomBJL"
      },
      "source": [
        "data_jkt = data_jkt.reset_index()"
      ],
      "execution_count": 180,
      "outputs": []
    },
    {
      "cell_type": "code",
      "metadata": {
        "id": "m5XDnmVSmFPR"
      },
      "source": [
        "data_jkt.drop('index', axis=1, inplace=True)"
      ],
      "execution_count": 181,
      "outputs": []
    },
    {
      "cell_type": "code",
      "metadata": {
        "colab": {
          "base_uri": "https://localhost:8080/",
          "height": 419
        },
        "id": "CHwBUtUumB1D",
        "outputId": "b2e69832-a58d-4683-dfc0-9109a514e634"
      },
      "source": [
        "data_jkt"
      ],
      "execution_count": 182,
      "outputs": [
        {
          "output_type": "execute_result",
          "data": {
            "text/html": [
              "<div>\n",
              "<style scoped>\n",
              "    .dataframe tbody tr th:only-of-type {\n",
              "        vertical-align: middle;\n",
              "    }\n",
              "\n",
              "    .dataframe tbody tr th {\n",
              "        vertical-align: top;\n",
              "    }\n",
              "\n",
              "    .dataframe thead th {\n",
              "        text-align: right;\n",
              "    }\n",
              "</style>\n",
              "<table border=\"1\" class=\"dataframe\">\n",
              "  <thead>\n",
              "    <tr style=\"text-align: right;\">\n",
              "      <th></th>\n",
              "      <th>ObservationDate</th>\n",
              "      <th>Country/Region</th>\n",
              "      <th>Confirmed</th>\n",
              "      <th>Deaths</th>\n",
              "      <th>Recovered</th>\n",
              "    </tr>\n",
              "  </thead>\n",
              "  <tbody>\n",
              "    <tr>\n",
              "      <th>0</th>\n",
              "      <td>03/02/2020</td>\n",
              "      <td>Indonesia</td>\n",
              "      <td>2.0</td>\n",
              "      <td>0.0</td>\n",
              "      <td>0.0</td>\n",
              "    </tr>\n",
              "    <tr>\n",
              "      <th>1</th>\n",
              "      <td>03/03/2020</td>\n",
              "      <td>Indonesia</td>\n",
              "      <td>2.0</td>\n",
              "      <td>0.0</td>\n",
              "      <td>0.0</td>\n",
              "    </tr>\n",
              "    <tr>\n",
              "      <th>2</th>\n",
              "      <td>03/04/2020</td>\n",
              "      <td>Indonesia</td>\n",
              "      <td>2.0</td>\n",
              "      <td>0.0</td>\n",
              "      <td>0.0</td>\n",
              "    </tr>\n",
              "    <tr>\n",
              "      <th>3</th>\n",
              "      <td>03/05/2020</td>\n",
              "      <td>Indonesia</td>\n",
              "      <td>2.0</td>\n",
              "      <td>0.0</td>\n",
              "      <td>0.0</td>\n",
              "    </tr>\n",
              "    <tr>\n",
              "      <th>4</th>\n",
              "      <td>03/06/2020</td>\n",
              "      <td>Indonesia</td>\n",
              "      <td>4.0</td>\n",
              "      <td>0.0</td>\n",
              "      <td>0.0</td>\n",
              "    </tr>\n",
              "    <tr>\n",
              "      <th>...</th>\n",
              "      <td>...</td>\n",
              "      <td>...</td>\n",
              "      <td>...</td>\n",
              "      <td>...</td>\n",
              "      <td>...</td>\n",
              "    </tr>\n",
              "    <tr>\n",
              "      <th>449</th>\n",
              "      <td>05/25/2021</td>\n",
              "      <td>Indonesia</td>\n",
              "      <td>1786187.0</td>\n",
              "      <td>49627.0</td>\n",
              "      <td>1642074.0</td>\n",
              "    </tr>\n",
              "    <tr>\n",
              "      <th>450</th>\n",
              "      <td>05/26/2021</td>\n",
              "      <td>Indonesia</td>\n",
              "      <td>1791221.0</td>\n",
              "      <td>49771.0</td>\n",
              "      <td>1645263.0</td>\n",
              "    </tr>\n",
              "    <tr>\n",
              "      <th>451</th>\n",
              "      <td>05/27/2021</td>\n",
              "      <td>Indonesia</td>\n",
              "      <td>1797499.0</td>\n",
              "      <td>49907.0</td>\n",
              "      <td>1649187.0</td>\n",
              "    </tr>\n",
              "    <tr>\n",
              "      <th>452</th>\n",
              "      <td>05/28/2021</td>\n",
              "      <td>Indonesia</td>\n",
              "      <td>1803361.0</td>\n",
              "      <td>50100.0</td>\n",
              "      <td>1654557.0</td>\n",
              "    </tr>\n",
              "    <tr>\n",
              "      <th>453</th>\n",
              "      <td>05/29/2021</td>\n",
              "      <td>Indonesia</td>\n",
              "      <td>1809926.0</td>\n",
              "      <td>50262.0</td>\n",
              "      <td>1659974.0</td>\n",
              "    </tr>\n",
              "  </tbody>\n",
              "</table>\n",
              "<p>454 rows × 5 columns</p>\n",
              "</div>"
            ],
            "text/plain": [
              "    ObservationDate Country/Region  Confirmed   Deaths  Recovered\n",
              "0        03/02/2020      Indonesia        2.0      0.0        0.0\n",
              "1        03/03/2020      Indonesia        2.0      0.0        0.0\n",
              "2        03/04/2020      Indonesia        2.0      0.0        0.0\n",
              "3        03/05/2020      Indonesia        2.0      0.0        0.0\n",
              "4        03/06/2020      Indonesia        4.0      0.0        0.0\n",
              "..              ...            ...        ...      ...        ...\n",
              "449      05/25/2021      Indonesia  1786187.0  49627.0  1642074.0\n",
              "450      05/26/2021      Indonesia  1791221.0  49771.0  1645263.0\n",
              "451      05/27/2021      Indonesia  1797499.0  49907.0  1649187.0\n",
              "452      05/28/2021      Indonesia  1803361.0  50100.0  1654557.0\n",
              "453      05/29/2021      Indonesia  1809926.0  50262.0  1659974.0\n",
              "\n",
              "[454 rows x 5 columns]"
            ]
          },
          "metadata": {
            "tags": []
          },
          "execution_count": 182
        }
      ]
    },
    {
      "cell_type": "code",
      "metadata": {
        "id": "jpVncY0AmPZb"
      },
      "source": [
        "data_jkt['Daily Confirmed'] = data_jkt['Confirmed']\n",
        "data_jkt['Daily Deaths'] = data_jkt['Deaths']\n",
        "data_jkt['Daily Recovered'] = data_jkt['Recovered']"
      ],
      "execution_count": 183,
      "outputs": []
    },
    {
      "cell_type": "code",
      "metadata": {
        "colab": {
          "base_uri": "https://localhost:8080/"
        },
        "id": "pcWIPO1vmVdm",
        "outputId": "19453b29-c2d8-45ca-a08b-3e5a4523c42a"
      },
      "source": [
        "for i in range(1,len(data_jkt)):\n",
        "  data_jkt['Daily Confirmed'].loc[i] = data_jkt['Confirmed'].loc[i] - data_jkt['Confirmed'].loc[i-1]\n",
        "  data_jkt['Daily Deaths'].loc[i] = data_jkt['Deaths'].loc[i] - data_jkt['Deaths'].loc[i-1]\n",
        "  data_jkt['Daily Recovered'].loc[i] = data_jkt['Recovered'].loc[i] - data_jkt['Recovered'].loc[i-1]"
      ],
      "execution_count": 184,
      "outputs": [
        {
          "output_type": "stream",
          "text": [
            "/usr/local/lib/python3.7/dist-packages/pandas/core/indexing.py:670: SettingWithCopyWarning: \n",
            "A value is trying to be set on a copy of a slice from a DataFrame\n",
            "\n",
            "See the caveats in the documentation: https://pandas.pydata.org/pandas-docs/stable/user_guide/indexing.html#returning-a-view-versus-a-copy\n",
            "  iloc._setitem_with_indexer(indexer, value)\n"
          ],
          "name": "stderr"
        }
      ]
    },
    {
      "cell_type": "code",
      "metadata": {
        "colab": {
          "base_uri": "https://localhost:8080/",
          "height": 419
        },
        "id": "Qt7jUvG4AHuV",
        "outputId": "0a171bf6-cdbe-4d8b-9161-86542d7c5970"
      },
      "source": [
        "data_jkt"
      ],
      "execution_count": 185,
      "outputs": [
        {
          "output_type": "execute_result",
          "data": {
            "text/html": [
              "<div>\n",
              "<style scoped>\n",
              "    .dataframe tbody tr th:only-of-type {\n",
              "        vertical-align: middle;\n",
              "    }\n",
              "\n",
              "    .dataframe tbody tr th {\n",
              "        vertical-align: top;\n",
              "    }\n",
              "\n",
              "    .dataframe thead th {\n",
              "        text-align: right;\n",
              "    }\n",
              "</style>\n",
              "<table border=\"1\" class=\"dataframe\">\n",
              "  <thead>\n",
              "    <tr style=\"text-align: right;\">\n",
              "      <th></th>\n",
              "      <th>ObservationDate</th>\n",
              "      <th>Country/Region</th>\n",
              "      <th>Confirmed</th>\n",
              "      <th>Deaths</th>\n",
              "      <th>Recovered</th>\n",
              "      <th>Daily Confirmed</th>\n",
              "      <th>Daily Deaths</th>\n",
              "      <th>Daily Recovered</th>\n",
              "    </tr>\n",
              "  </thead>\n",
              "  <tbody>\n",
              "    <tr>\n",
              "      <th>0</th>\n",
              "      <td>03/02/2020</td>\n",
              "      <td>Indonesia</td>\n",
              "      <td>2.0</td>\n",
              "      <td>0.0</td>\n",
              "      <td>0.0</td>\n",
              "      <td>2.0</td>\n",
              "      <td>0.0</td>\n",
              "      <td>0.0</td>\n",
              "    </tr>\n",
              "    <tr>\n",
              "      <th>1</th>\n",
              "      <td>03/03/2020</td>\n",
              "      <td>Indonesia</td>\n",
              "      <td>2.0</td>\n",
              "      <td>0.0</td>\n",
              "      <td>0.0</td>\n",
              "      <td>0.0</td>\n",
              "      <td>0.0</td>\n",
              "      <td>0.0</td>\n",
              "    </tr>\n",
              "    <tr>\n",
              "      <th>2</th>\n",
              "      <td>03/04/2020</td>\n",
              "      <td>Indonesia</td>\n",
              "      <td>2.0</td>\n",
              "      <td>0.0</td>\n",
              "      <td>0.0</td>\n",
              "      <td>0.0</td>\n",
              "      <td>0.0</td>\n",
              "      <td>0.0</td>\n",
              "    </tr>\n",
              "    <tr>\n",
              "      <th>3</th>\n",
              "      <td>03/05/2020</td>\n",
              "      <td>Indonesia</td>\n",
              "      <td>2.0</td>\n",
              "      <td>0.0</td>\n",
              "      <td>0.0</td>\n",
              "      <td>0.0</td>\n",
              "      <td>0.0</td>\n",
              "      <td>0.0</td>\n",
              "    </tr>\n",
              "    <tr>\n",
              "      <th>4</th>\n",
              "      <td>03/06/2020</td>\n",
              "      <td>Indonesia</td>\n",
              "      <td>4.0</td>\n",
              "      <td>0.0</td>\n",
              "      <td>0.0</td>\n",
              "      <td>2.0</td>\n",
              "      <td>0.0</td>\n",
              "      <td>0.0</td>\n",
              "    </tr>\n",
              "    <tr>\n",
              "      <th>...</th>\n",
              "      <td>...</td>\n",
              "      <td>...</td>\n",
              "      <td>...</td>\n",
              "      <td>...</td>\n",
              "      <td>...</td>\n",
              "      <td>...</td>\n",
              "      <td>...</td>\n",
              "      <td>...</td>\n",
              "    </tr>\n",
              "    <tr>\n",
              "      <th>449</th>\n",
              "      <td>05/25/2021</td>\n",
              "      <td>Indonesia</td>\n",
              "      <td>1786187.0</td>\n",
              "      <td>49627.0</td>\n",
              "      <td>1642074.0</td>\n",
              "      <td>5060.0</td>\n",
              "      <td>172.0</td>\n",
              "      <td>3795.0</td>\n",
              "    </tr>\n",
              "    <tr>\n",
              "      <th>450</th>\n",
              "      <td>05/26/2021</td>\n",
              "      <td>Indonesia</td>\n",
              "      <td>1791221.0</td>\n",
              "      <td>49771.0</td>\n",
              "      <td>1645263.0</td>\n",
              "      <td>5034.0</td>\n",
              "      <td>144.0</td>\n",
              "      <td>3189.0</td>\n",
              "    </tr>\n",
              "    <tr>\n",
              "      <th>451</th>\n",
              "      <td>05/27/2021</td>\n",
              "      <td>Indonesia</td>\n",
              "      <td>1797499.0</td>\n",
              "      <td>49907.0</td>\n",
              "      <td>1649187.0</td>\n",
              "      <td>6278.0</td>\n",
              "      <td>136.0</td>\n",
              "      <td>3924.0</td>\n",
              "    </tr>\n",
              "    <tr>\n",
              "      <th>452</th>\n",
              "      <td>05/28/2021</td>\n",
              "      <td>Indonesia</td>\n",
              "      <td>1803361.0</td>\n",
              "      <td>50100.0</td>\n",
              "      <td>1654557.0</td>\n",
              "      <td>5862.0</td>\n",
              "      <td>193.0</td>\n",
              "      <td>5370.0</td>\n",
              "    </tr>\n",
              "    <tr>\n",
              "      <th>453</th>\n",
              "      <td>05/29/2021</td>\n",
              "      <td>Indonesia</td>\n",
              "      <td>1809926.0</td>\n",
              "      <td>50262.0</td>\n",
              "      <td>1659974.0</td>\n",
              "      <td>6565.0</td>\n",
              "      <td>162.0</td>\n",
              "      <td>5417.0</td>\n",
              "    </tr>\n",
              "  </tbody>\n",
              "</table>\n",
              "<p>454 rows × 8 columns</p>\n",
              "</div>"
            ],
            "text/plain": [
              "    ObservationDate Country/Region  ...  Daily Deaths  Daily Recovered\n",
              "0        03/02/2020      Indonesia  ...           0.0              0.0\n",
              "1        03/03/2020      Indonesia  ...           0.0              0.0\n",
              "2        03/04/2020      Indonesia  ...           0.0              0.0\n",
              "3        03/05/2020      Indonesia  ...           0.0              0.0\n",
              "4        03/06/2020      Indonesia  ...           0.0              0.0\n",
              "..              ...            ...  ...           ...              ...\n",
              "449      05/25/2021      Indonesia  ...         172.0           3795.0\n",
              "450      05/26/2021      Indonesia  ...         144.0           3189.0\n",
              "451      05/27/2021      Indonesia  ...         136.0           3924.0\n",
              "452      05/28/2021      Indonesia  ...         193.0           5370.0\n",
              "453      05/29/2021      Indonesia  ...         162.0           5417.0\n",
              "\n",
              "[454 rows x 8 columns]"
            ]
          },
          "metadata": {
            "tags": []
          },
          "execution_count": 185
        }
      ]
    },
    {
      "cell_type": "code",
      "metadata": {
        "colab": {
          "base_uri": "https://localhost:8080/"
        },
        "id": "xbvpB7lgnFvC",
        "outputId": "17b3e96d-a30c-405f-fa44-ba7c86f459a6"
      },
      "source": [
        "data_jkt['ObservationDate'] = pd.to_datetime(data_jkt['ObservationDate'])\n",
        "data_jkt.info()"
      ],
      "execution_count": 186,
      "outputs": [
        {
          "output_type": "stream",
          "text": [
            "<class 'pandas.core.frame.DataFrame'>\n",
            "RangeIndex: 454 entries, 0 to 453\n",
            "Data columns (total 8 columns):\n",
            " #   Column           Non-Null Count  Dtype         \n",
            "---  ------           --------------  -----         \n",
            " 0   ObservationDate  454 non-null    datetime64[ns]\n",
            " 1   Country/Region   454 non-null    object        \n",
            " 2   Confirmed        454 non-null    float64       \n",
            " 3   Deaths           454 non-null    float64       \n",
            " 4   Recovered        454 non-null    float64       \n",
            " 5   Daily Confirmed  454 non-null    float64       \n",
            " 6   Daily Deaths     454 non-null    float64       \n",
            " 7   Daily Recovered  454 non-null    float64       \n",
            "dtypes: datetime64[ns](1), float64(6), object(1)\n",
            "memory usage: 28.5+ KB\n"
          ],
          "name": "stdout"
        }
      ]
    },
    {
      "cell_type": "code",
      "metadata": {
        "colab": {
          "base_uri": "https://localhost:8080/",
          "height": 419
        },
        "id": "E85EmXJr9Lhm",
        "outputId": "668f802c-0a40-4cca-dd00-6c6bd76951a2"
      },
      "source": [
        "data_jkt"
      ],
      "execution_count": 187,
      "outputs": [
        {
          "output_type": "execute_result",
          "data": {
            "text/html": [
              "<div>\n",
              "<style scoped>\n",
              "    .dataframe tbody tr th:only-of-type {\n",
              "        vertical-align: middle;\n",
              "    }\n",
              "\n",
              "    .dataframe tbody tr th {\n",
              "        vertical-align: top;\n",
              "    }\n",
              "\n",
              "    .dataframe thead th {\n",
              "        text-align: right;\n",
              "    }\n",
              "</style>\n",
              "<table border=\"1\" class=\"dataframe\">\n",
              "  <thead>\n",
              "    <tr style=\"text-align: right;\">\n",
              "      <th></th>\n",
              "      <th>ObservationDate</th>\n",
              "      <th>Country/Region</th>\n",
              "      <th>Confirmed</th>\n",
              "      <th>Deaths</th>\n",
              "      <th>Recovered</th>\n",
              "      <th>Daily Confirmed</th>\n",
              "      <th>Daily Deaths</th>\n",
              "      <th>Daily Recovered</th>\n",
              "    </tr>\n",
              "  </thead>\n",
              "  <tbody>\n",
              "    <tr>\n",
              "      <th>0</th>\n",
              "      <td>2020-03-02</td>\n",
              "      <td>Indonesia</td>\n",
              "      <td>2.0</td>\n",
              "      <td>0.0</td>\n",
              "      <td>0.0</td>\n",
              "      <td>2.0</td>\n",
              "      <td>0.0</td>\n",
              "      <td>0.0</td>\n",
              "    </tr>\n",
              "    <tr>\n",
              "      <th>1</th>\n",
              "      <td>2020-03-03</td>\n",
              "      <td>Indonesia</td>\n",
              "      <td>2.0</td>\n",
              "      <td>0.0</td>\n",
              "      <td>0.0</td>\n",
              "      <td>0.0</td>\n",
              "      <td>0.0</td>\n",
              "      <td>0.0</td>\n",
              "    </tr>\n",
              "    <tr>\n",
              "      <th>2</th>\n",
              "      <td>2020-03-04</td>\n",
              "      <td>Indonesia</td>\n",
              "      <td>2.0</td>\n",
              "      <td>0.0</td>\n",
              "      <td>0.0</td>\n",
              "      <td>0.0</td>\n",
              "      <td>0.0</td>\n",
              "      <td>0.0</td>\n",
              "    </tr>\n",
              "    <tr>\n",
              "      <th>3</th>\n",
              "      <td>2020-03-05</td>\n",
              "      <td>Indonesia</td>\n",
              "      <td>2.0</td>\n",
              "      <td>0.0</td>\n",
              "      <td>0.0</td>\n",
              "      <td>0.0</td>\n",
              "      <td>0.0</td>\n",
              "      <td>0.0</td>\n",
              "    </tr>\n",
              "    <tr>\n",
              "      <th>4</th>\n",
              "      <td>2020-03-06</td>\n",
              "      <td>Indonesia</td>\n",
              "      <td>4.0</td>\n",
              "      <td>0.0</td>\n",
              "      <td>0.0</td>\n",
              "      <td>2.0</td>\n",
              "      <td>0.0</td>\n",
              "      <td>0.0</td>\n",
              "    </tr>\n",
              "    <tr>\n",
              "      <th>...</th>\n",
              "      <td>...</td>\n",
              "      <td>...</td>\n",
              "      <td>...</td>\n",
              "      <td>...</td>\n",
              "      <td>...</td>\n",
              "      <td>...</td>\n",
              "      <td>...</td>\n",
              "      <td>...</td>\n",
              "    </tr>\n",
              "    <tr>\n",
              "      <th>449</th>\n",
              "      <td>2021-05-25</td>\n",
              "      <td>Indonesia</td>\n",
              "      <td>1786187.0</td>\n",
              "      <td>49627.0</td>\n",
              "      <td>1642074.0</td>\n",
              "      <td>5060.0</td>\n",
              "      <td>172.0</td>\n",
              "      <td>3795.0</td>\n",
              "    </tr>\n",
              "    <tr>\n",
              "      <th>450</th>\n",
              "      <td>2021-05-26</td>\n",
              "      <td>Indonesia</td>\n",
              "      <td>1791221.0</td>\n",
              "      <td>49771.0</td>\n",
              "      <td>1645263.0</td>\n",
              "      <td>5034.0</td>\n",
              "      <td>144.0</td>\n",
              "      <td>3189.0</td>\n",
              "    </tr>\n",
              "    <tr>\n",
              "      <th>451</th>\n",
              "      <td>2021-05-27</td>\n",
              "      <td>Indonesia</td>\n",
              "      <td>1797499.0</td>\n",
              "      <td>49907.0</td>\n",
              "      <td>1649187.0</td>\n",
              "      <td>6278.0</td>\n",
              "      <td>136.0</td>\n",
              "      <td>3924.0</td>\n",
              "    </tr>\n",
              "    <tr>\n",
              "      <th>452</th>\n",
              "      <td>2021-05-28</td>\n",
              "      <td>Indonesia</td>\n",
              "      <td>1803361.0</td>\n",
              "      <td>50100.0</td>\n",
              "      <td>1654557.0</td>\n",
              "      <td>5862.0</td>\n",
              "      <td>193.0</td>\n",
              "      <td>5370.0</td>\n",
              "    </tr>\n",
              "    <tr>\n",
              "      <th>453</th>\n",
              "      <td>2021-05-29</td>\n",
              "      <td>Indonesia</td>\n",
              "      <td>1809926.0</td>\n",
              "      <td>50262.0</td>\n",
              "      <td>1659974.0</td>\n",
              "      <td>6565.0</td>\n",
              "      <td>162.0</td>\n",
              "      <td>5417.0</td>\n",
              "    </tr>\n",
              "  </tbody>\n",
              "</table>\n",
              "<p>454 rows × 8 columns</p>\n",
              "</div>"
            ],
            "text/plain": [
              "    ObservationDate Country/Region  ...  Daily Deaths  Daily Recovered\n",
              "0        2020-03-02      Indonesia  ...           0.0              0.0\n",
              "1        2020-03-03      Indonesia  ...           0.0              0.0\n",
              "2        2020-03-04      Indonesia  ...           0.0              0.0\n",
              "3        2020-03-05      Indonesia  ...           0.0              0.0\n",
              "4        2020-03-06      Indonesia  ...           0.0              0.0\n",
              "..              ...            ...  ...           ...              ...\n",
              "449      2021-05-25      Indonesia  ...         172.0           3795.0\n",
              "450      2021-05-26      Indonesia  ...         144.0           3189.0\n",
              "451      2021-05-27      Indonesia  ...         136.0           3924.0\n",
              "452      2021-05-28      Indonesia  ...         193.0           5370.0\n",
              "453      2021-05-29      Indonesia  ...         162.0           5417.0\n",
              "\n",
              "[454 rows x 8 columns]"
            ]
          },
          "metadata": {
            "tags": []
          },
          "execution_count": 187
        }
      ]
    },
    {
      "cell_type": "code",
      "metadata": {
        "id": "vZy3qRNuuJIP"
      },
      "source": [
        "data_jkt.to_csv('Data Jakarta per 29 Mei 2021.csv')\n",
        "data_jkt.to_excel('Data Jakarta per 29 Mei 2021.xlsx')"
      ],
      "execution_count": 93,
      "outputs": []
    },
    {
      "cell_type": "code",
      "metadata": {
        "colab": {
          "base_uri": "https://localhost:8080/",
          "height": 404
        },
        "id": "YfIbQohpBqz7",
        "outputId": "18b4abd2-cb57-4e8d-8f43-a63bb329bef4"
      },
      "source": [
        "fig, ax = plt.subplots()\n",
        "fig.set_size_inches(20, 6)\n",
        "\n",
        "ax.plot(data_jkt['ObservationDate'], data_jkt['Confirmed'], color='blue', label='Total Confirmed')\n",
        "ax.plot(data_jkt['ObservationDate'], data_jkt['Deaths'], color='red', label='Total Deaths')\n",
        "ax.plot(data_jkt['ObservationDate'], data_jkt['Recovered'], color='green', label='Total Recovered')\n",
        "ax.set_xlabel('Date')\n",
        "ax.xaxis.set_major_locator(MonthLocator())\n",
        "ax.xaxis.set_major_formatter(DateFormatter('%Y-%m'))\n",
        "ax.set_ylabel('Total')\n",
        "ax.set_title('Jumlah Kasus Harian di Indonesia per tanggal 29 Mei 2021')\n",
        "ax.legend()\n",
        "\n",
        "plt.show()"
      ],
      "execution_count": 189,
      "outputs": [
        {
          "output_type": "display_data",
          "data": {
            "image/png": "[encoded data removed]",
            "text/plain": [
              "<Figure size 1440x432 with 1 Axes>"
            ]
          },
          "metadata": {
            "tags": [],
            "needs_background": "light"
          }
        }
      ]
    },
    {
      "cell_type": "code",
      "metadata": {
        "colab": {
          "base_uri": "https://localhost:8080/",
          "height": 452
        },
        "id": "dHDmYV0LwM49",
        "outputId": "c7a40b58-be8e-464e-aa21-72a3c03c9ab4"
      },
      "source": [
        "fig = plt.figure(figsize=(20,6))\n",
        "\n",
        "plt.plot(data_jkt['ObservationDate'], data_jkt['Daily Confirmed'], color='blue', label='Daily Confirmed')\n",
        "plt.plot(data_jkt['ObservationDate'], data_jkt['Daily Deaths'], color='red', label='Daily Deaths')\n",
        "plt.plot(data_jkt['ObservationDate'], data_jkt['Daily Recovered'], color='green', label='Daily Recovered')\n",
        "plt.xlabel('Date')\n",
        "plt.ylabel('Total')\n",
        "plt.xticks(rotation='90')\n",
        "plt.title('Jumlah Kasus Harian di Indonesia per tanggal 29 Mei 2021')\n",
        "plt.legend()\n",
        "\n",
        "plt.show()"
      ],
      "execution_count": 174,
      "outputs": [
        {
          "output_type": "display_data",
          "data": {
            "image/png": "[encoded data removed]",
            "text/plain": [
              "<Figure size 1440x432 with 1 Axes>"
            ]
          },
          "metadata": {
            "tags": [],
            "needs_background": "light"
          }
        }
      ]
    },
    {
      "cell_type": "code",
      "metadata": {
        "colab": {
          "base_uri": "https://localhost:8080/",
          "height": 404
        },
        "id": "prueV6u43uEf",
        "outputId": "733a02c6-7bdb-4baa-adb5-1dfe0b661d7e"
      },
      "source": [
        "from matplotlib.dates import MonthLocator, DateFormatter\n",
        "\n",
        "fig, ax = plt.subplots()\n",
        "fig.set_size_inches(20, 6)\n",
        "\n",
        "ax.plot(data_jkt['ObservationDate'], data_jkt['Daily Confirmed'], color='blue', label='Daily Confirmed')\n",
        "ax.plot(data_jkt['ObservationDate'], data_jkt['Daily Deaths'], color='red', label='Daily Deaths')\n",
        "ax.plot(data_jkt['ObservationDate'], data_jkt['Daily Recovered'], color='green', label='Daily Recovered')\n",
        "ax.set_xlabel('Date')\n",
        "ax.xaxis.set_major_locator(MonthLocator())\n",
        "ax.xaxis.set_major_formatter(DateFormatter('%Y-%m'))\n",
        "ax.set_ylabel('Total')\n",
        "ax.set_title('Jumlah Kasus Harian di Indonesia per tanggal 29 Mei 2021')\n",
        "ax.legend()\n",
        "\n",
        "plt.show()"
      ],
      "execution_count": 197,
      "outputs": [
        {
          "output_type": "display_data",
          "data": {
            "image/png": "[encoded data removed]",
            "text/plain": [
              "<Figure size 1440x432 with 1 Axes>"
            ]
          },
          "metadata": {
            "tags": [],
            "needs_background": "light"
          }
        }
      ]
    },
    {
      "cell_type": "code",
      "metadata": {
        "colab": {
          "base_uri": "https://localhost:8080/",
          "height": 419
        },
        "id": "vOxfUEnCCcbl",
        "outputId": "bc56a1b8-f966-4c6a-ef14-0069f2b4d6e6"
      },
      "source": [
        "data"
      ],
      "execution_count": 192,
      "outputs": [
        {
          "output_type": "execute_result",
          "data": {
            "text/html": [
              "<div>\n",
              "<style scoped>\n",
              "    .dataframe tbody tr th:only-of-type {\n",
              "        vertical-align: middle;\n",
              "    }\n",
              "\n",
              "    .dataframe tbody tr th {\n",
              "        vertical-align: top;\n",
              "    }\n",
              "\n",
              "    .dataframe thead th {\n",
              "        text-align: right;\n",
              "    }\n",
              "</style>\n",
              "<table border=\"1\" class=\"dataframe\">\n",
              "  <thead>\n",
              "    <tr style=\"text-align: right;\">\n",
              "      <th></th>\n",
              "      <th>SNo</th>\n",
              "      <th>ObservationDate</th>\n",
              "      <th>Province/State</th>\n",
              "      <th>Country/Region</th>\n",
              "      <th>Last Update</th>\n",
              "      <th>Confirmed</th>\n",
              "      <th>Deaths</th>\n",
              "      <th>Recovered</th>\n",
              "    </tr>\n",
              "  </thead>\n",
              "  <tbody>\n",
              "    <tr>\n",
              "      <th>0</th>\n",
              "      <td>1</td>\n",
              "      <td>01/22/2020</td>\n",
              "      <td>Anhui</td>\n",
              "      <td>Mainland China</td>\n",
              "      <td>1/22/2020 17:00</td>\n",
              "      <td>1.0</td>\n",
              "      <td>0.0</td>\n",
              "      <td>0.0</td>\n",
              "    </tr>\n",
              "    <tr>\n",
              "      <th>1</th>\n",
              "      <td>2</td>\n",
              "      <td>01/22/2020</td>\n",
              "      <td>Beijing</td>\n",
              "      <td>Mainland China</td>\n",
              "      <td>1/22/2020 17:00</td>\n",
              "      <td>14.0</td>\n",
              "      <td>0.0</td>\n",
              "      <td>0.0</td>\n",
              "    </tr>\n",
              "    <tr>\n",
              "      <th>2</th>\n",
              "      <td>3</td>\n",
              "      <td>01/22/2020</td>\n",
              "      <td>Chongqing</td>\n",
              "      <td>Mainland China</td>\n",
              "      <td>1/22/2020 17:00</td>\n",
              "      <td>6.0</td>\n",
              "      <td>0.0</td>\n",
              "      <td>0.0</td>\n",
              "    </tr>\n",
              "    <tr>\n",
              "      <th>3</th>\n",
              "      <td>4</td>\n",
              "      <td>01/22/2020</td>\n",
              "      <td>Fujian</td>\n",
              "      <td>Mainland China</td>\n",
              "      <td>1/22/2020 17:00</td>\n",
              "      <td>1.0</td>\n",
              "      <td>0.0</td>\n",
              "      <td>0.0</td>\n",
              "    </tr>\n",
              "    <tr>\n",
              "      <th>4</th>\n",
              "      <td>5</td>\n",
              "      <td>01/22/2020</td>\n",
              "      <td>Gansu</td>\n",
              "      <td>Mainland China</td>\n",
              "      <td>1/22/2020 17:00</td>\n",
              "      <td>0.0</td>\n",
              "      <td>0.0</td>\n",
              "      <td>0.0</td>\n",
              "    </tr>\n",
              "    <tr>\n",
              "      <th>...</th>\n",
              "      <td>...</td>\n",
              "      <td>...</td>\n",
              "      <td>...</td>\n",
              "      <td>...</td>\n",
              "      <td>...</td>\n",
              "      <td>...</td>\n",
              "      <td>...</td>\n",
              "      <td>...</td>\n",
              "    </tr>\n",
              "    <tr>\n",
              "      <th>306424</th>\n",
              "      <td>306425</td>\n",
              "      <td>05/29/2021</td>\n",
              "      <td>Zaporizhia Oblast</td>\n",
              "      <td>Ukraine</td>\n",
              "      <td>2021-05-30 04:20:55</td>\n",
              "      <td>102641.0</td>\n",
              "      <td>2335.0</td>\n",
              "      <td>95289.0</td>\n",
              "    </tr>\n",
              "    <tr>\n",
              "      <th>306425</th>\n",
              "      <td>306426</td>\n",
              "      <td>05/29/2021</td>\n",
              "      <td>Zeeland</td>\n",
              "      <td>Netherlands</td>\n",
              "      <td>2021-05-30 04:20:55</td>\n",
              "      <td>29147.0</td>\n",
              "      <td>245.0</td>\n",
              "      <td>0.0</td>\n",
              "    </tr>\n",
              "    <tr>\n",
              "      <th>306426</th>\n",
              "      <td>306427</td>\n",
              "      <td>05/29/2021</td>\n",
              "      <td>Zhejiang</td>\n",
              "      <td>Mainland China</td>\n",
              "      <td>2021-05-30 04:20:55</td>\n",
              "      <td>1364.0</td>\n",
              "      <td>1.0</td>\n",
              "      <td>1324.0</td>\n",
              "    </tr>\n",
              "    <tr>\n",
              "      <th>306427</th>\n",
              "      <td>306428</td>\n",
              "      <td>05/29/2021</td>\n",
              "      <td>Zhytomyr Oblast</td>\n",
              "      <td>Ukraine</td>\n",
              "      <td>2021-05-30 04:20:55</td>\n",
              "      <td>87550.0</td>\n",
              "      <td>1738.0</td>\n",
              "      <td>83790.0</td>\n",
              "    </tr>\n",
              "    <tr>\n",
              "      <th>306428</th>\n",
              "      <td>306429</td>\n",
              "      <td>05/29/2021</td>\n",
              "      <td>Zuid-Holland</td>\n",
              "      <td>Netherlands</td>\n",
              "      <td>2021-05-30 04:20:55</td>\n",
              "      <td>391559.0</td>\n",
              "      <td>4252.0</td>\n",
              "      <td>0.0</td>\n",
              "    </tr>\n",
              "  </tbody>\n",
              "</table>\n",
              "<p>306429 rows × 8 columns</p>\n",
              "</div>"
            ],
            "text/plain": [
              "           SNo ObservationDate     Province/State  ... Confirmed  Deaths  Recovered\n",
              "0            1      01/22/2020              Anhui  ...       1.0     0.0        0.0\n",
              "1            2      01/22/2020            Beijing  ...      14.0     0.0        0.0\n",
              "2            3      01/22/2020          Chongqing  ...       6.0     0.0        0.0\n",
              "3            4      01/22/2020             Fujian  ...       1.0     0.0        0.0\n",
              "4            5      01/22/2020              Gansu  ...       0.0     0.0        0.0\n",
              "...        ...             ...                ...  ...       ...     ...        ...\n",
              "306424  306425      05/29/2021  Zaporizhia Oblast  ...  102641.0  2335.0    95289.0\n",
              "306425  306426      05/29/2021            Zeeland  ...   29147.0   245.0        0.0\n",
              "306426  306427      05/29/2021           Zhejiang  ...    1364.0     1.0     1324.0\n",
              "306427  306428      05/29/2021    Zhytomyr Oblast  ...   87550.0  1738.0    83790.0\n",
              "306428  306429      05/29/2021       Zuid-Holland  ...  391559.0  4252.0        0.0\n",
              "\n",
              "[306429 rows x 8 columns]"
            ]
          },
          "metadata": {
            "tags": []
          },
          "execution_count": 192
        }
      ]
    },
    {
      "cell_type": "code",
      "metadata": {
        "colab": {
          "base_uri": "https://localhost:8080/"
        },
        "id": "Db-uA8P9nqg2",
        "outputId": "5f98be53-bb2e-43af-c68f-316adb72e238"
      },
      "source": [
        "group_country = data[data['ObservationDate']=='05/29/2021'].groupby('Country/Region')['Confirmed', 'Deaths', 'Recovered'].sum()"
      ],
      "execution_count": 69,
      "outputs": [
        {
          "output_type": "stream",
          "text": [
            "/usr/local/lib/python3.7/dist-packages/ipykernel_launcher.py:1: FutureWarning: Indexing with multiple keys (implicitly converted to a tuple of keys) will be deprecated, use a list instead.\n",
            "  \"\"\"Entry point for launching an IPython kernel.\n"
          ],
          "name": "stderr"
        }
      ]
    },
    {
      "cell_type": "code",
      "metadata": {
        "id": "z6Du7iKeoi_r"
      },
      "source": [
        "group_country = group_country.reset_index()"
      ],
      "execution_count": 72,
      "outputs": []
    },
    {
      "cell_type": "code",
      "metadata": {
        "colab": {
          "base_uri": "https://localhost:8080/",
          "height": 419
        },
        "id": "t4z4Bc17p-wr",
        "outputId": "9dcdc395-eb58-4aec-a29f-d5f1d30c1c96"
      },
      "source": [
        "group_country"
      ],
      "execution_count": 77,
      "outputs": [
        {
          "output_type": "execute_result",
          "data": {
            "text/html": [
              "<div>\n",
              "<style scoped>\n",
              "    .dataframe tbody tr th:only-of-type {\n",
              "        vertical-align: middle;\n",
              "    }\n",
              "\n",
              "    .dataframe tbody tr th {\n",
              "        vertical-align: top;\n",
              "    }\n",
              "\n",
              "    .dataframe thead th {\n",
              "        text-align: right;\n",
              "    }\n",
              "</style>\n",
              "<table border=\"1\" class=\"dataframe\">\n",
              "  <thead>\n",
              "    <tr style=\"text-align: right;\">\n",
              "      <th></th>\n",
              "      <th>Country/Region</th>\n",
              "      <th>Confirmed</th>\n",
              "      <th>Deaths</th>\n",
              "      <th>Recovered</th>\n",
              "    </tr>\n",
              "  </thead>\n",
              "  <tbody>\n",
              "    <tr>\n",
              "      <th>0</th>\n",
              "      <td>Afghanistan</td>\n",
              "      <td>70111.0</td>\n",
              "      <td>2899.0</td>\n",
              "      <td>57281.0</td>\n",
              "    </tr>\n",
              "    <tr>\n",
              "      <th>1</th>\n",
              "      <td>Albania</td>\n",
              "      <td>132297.0</td>\n",
              "      <td>2449.0</td>\n",
              "      <td>129215.0</td>\n",
              "    </tr>\n",
              "    <tr>\n",
              "      <th>2</th>\n",
              "      <td>Algeria</td>\n",
              "      <td>128456.0</td>\n",
              "      <td>3460.0</td>\n",
              "      <td>89419.0</td>\n",
              "    </tr>\n",
              "    <tr>\n",
              "      <th>3</th>\n",
              "      <td>Andorra</td>\n",
              "      <td>13693.0</td>\n",
              "      <td>127.0</td>\n",
              "      <td>13416.0</td>\n",
              "    </tr>\n",
              "    <tr>\n",
              "      <th>4</th>\n",
              "      <td>Angola</td>\n",
              "      <td>34180.0</td>\n",
              "      <td>757.0</td>\n",
              "      <td>27646.0</td>\n",
              "    </tr>\n",
              "    <tr>\n",
              "      <th>...</th>\n",
              "      <td>...</td>\n",
              "      <td>...</td>\n",
              "      <td>...</td>\n",
              "      <td>...</td>\n",
              "    </tr>\n",
              "    <tr>\n",
              "      <th>190</th>\n",
              "      <td>Vietnam</td>\n",
              "      <td>6908.0</td>\n",
              "      <td>47.0</td>\n",
              "      <td>2896.0</td>\n",
              "    </tr>\n",
              "    <tr>\n",
              "      <th>191</th>\n",
              "      <td>West Bank and Gaza</td>\n",
              "      <td>307838.0</td>\n",
              "      <td>3492.0</td>\n",
              "      <td>300524.0</td>\n",
              "    </tr>\n",
              "    <tr>\n",
              "      <th>192</th>\n",
              "      <td>Yemen</td>\n",
              "      <td>6731.0</td>\n",
              "      <td>1319.0</td>\n",
              "      <td>3399.0</td>\n",
              "    </tr>\n",
              "    <tr>\n",
              "      <th>193</th>\n",
              "      <td>Zambia</td>\n",
              "      <td>94751.0</td>\n",
              "      <td>1276.0</td>\n",
              "      <td>91594.0</td>\n",
              "    </tr>\n",
              "    <tr>\n",
              "      <th>194</th>\n",
              "      <td>Zimbabwe</td>\n",
              "      <td>38933.0</td>\n",
              "      <td>1594.0</td>\n",
              "      <td>36578.0</td>\n",
              "    </tr>\n",
              "  </tbody>\n",
              "</table>\n",
              "<p>195 rows × 4 columns</p>\n",
              "</div>"
            ],
            "text/plain": [
              "         Country/Region  Confirmed  Deaths  Recovered\n",
              "0           Afghanistan    70111.0  2899.0    57281.0\n",
              "1               Albania   132297.0  2449.0   129215.0\n",
              "2               Algeria   128456.0  3460.0    89419.0\n",
              "3               Andorra    13693.0   127.0    13416.0\n",
              "4                Angola    34180.0   757.0    27646.0\n",
              "..                  ...        ...     ...        ...\n",
              "190             Vietnam     6908.0    47.0     2896.0\n",
              "191  West Bank and Gaza   307838.0  3492.0   300524.0\n",
              "192               Yemen     6731.0  1319.0     3399.0\n",
              "193              Zambia    94751.0  1276.0    91594.0\n",
              "194            Zimbabwe    38933.0  1594.0    36578.0\n",
              "\n",
              "[195 rows x 4 columns]"
            ]
          },
          "metadata": {
            "tags": []
          },
          "execution_count": 77
        }
      ]
    },
    {
      "cell_type": "code",
      "metadata": {
        "id": "AGyFTqPe1txe"
      },
      "source": [
        "group_country['Death Rate'] = group_country['Deaths']/group_country['Confirmed']\n",
        "group_country['Recovered Rate'] = group_country['Recovered']/group_country['Confirmed']"
      ],
      "execution_count": 106,
      "outputs": []
    },
    {
      "cell_type": "code",
      "metadata": {
        "colab": {
          "base_uri": "https://localhost:8080/",
          "height": 80
        },
        "id": "c4o3IxsY2z4n",
        "outputId": "9092b8f6-2c29-4df5-d97c-83ddd78c8589"
      },
      "source": [
        "group_country[group_country['Country/Region']=='Indonesia']"
      ],
      "execution_count": 113,
      "outputs": [
        {
          "output_type": "execute_result",
          "data": {
            "text/html": [
              "<div>\n",
              "<style scoped>\n",
              "    .dataframe tbody tr th:only-of-type {\n",
              "        vertical-align: middle;\n",
              "    }\n",
              "\n",
              "    .dataframe tbody tr th {\n",
              "        vertical-align: top;\n",
              "    }\n",
              "\n",
              "    .dataframe thead th {\n",
              "        text-align: right;\n",
              "    }\n",
              "</style>\n",
              "<table border=\"1\" class=\"dataframe\">\n",
              "  <thead>\n",
              "    <tr style=\"text-align: right;\">\n",
              "      <th></th>\n",
              "      <th>Country/Region</th>\n",
              "      <th>Confirmed</th>\n",
              "      <th>Deaths</th>\n",
              "      <th>Recovered</th>\n",
              "      <th>Death Rate</th>\n",
              "      <th>Recovered Rate</th>\n",
              "    </tr>\n",
              "  </thead>\n",
              "  <tbody>\n",
              "    <tr>\n",
              "      <th>79</th>\n",
              "      <td>Indonesia</td>\n",
              "      <td>1809926.0</td>\n",
              "      <td>50262.0</td>\n",
              "      <td>1659974.0</td>\n",
              "      <td>0.02777</td>\n",
              "      <td>0.91715</td>\n",
              "    </tr>\n",
              "  </tbody>\n",
              "</table>\n",
              "</div>"
            ],
            "text/plain": [
              "   Country/Region  Confirmed   Deaths  Recovered  Death Rate  Recovered Rate\n",
              "79      Indonesia  1809926.0  50262.0  1659974.0     0.02777         0.91715"
            ]
          },
          "metadata": {
            "tags": []
          },
          "execution_count": 113
        }
      ]
    },
    {
      "cell_type": "code",
      "metadata": {
        "colab": {
          "base_uri": "https://localhost:8080/",
          "height": 204
        },
        "id": "JXuNnvP418oN",
        "outputId": "ddbdf699-d1ca-4218-ea19-350b29b68f0a"
      },
      "source": [
        "group_country[group_country['Confirmed']>= 1809926].sort_values('Death Rate', ascending=False).head()"
      ],
      "execution_count": 114,
      "outputs": [
        {
          "output_type": "execute_result",
          "data": {
            "text/html": [
              "<div>\n",
              "<style scoped>\n",
              "    .dataframe tbody tr th:only-of-type {\n",
              "        vertical-align: middle;\n",
              "    }\n",
              "\n",
              "    .dataframe tbody tr th {\n",
              "        vertical-align: top;\n",
              "    }\n",
              "\n",
              "    .dataframe thead th {\n",
              "        text-align: right;\n",
              "    }\n",
              "</style>\n",
              "<table border=\"1\" class=\"dataframe\">\n",
              "  <thead>\n",
              "    <tr style=\"text-align: right;\">\n",
              "      <th></th>\n",
              "      <th>Country/Region</th>\n",
              "      <th>Confirmed</th>\n",
              "      <th>Deaths</th>\n",
              "      <th>Recovered</th>\n",
              "      <th>Death Rate</th>\n",
              "      <th>Recovered Rate</th>\n",
              "    </tr>\n",
              "  </thead>\n",
              "  <tbody>\n",
              "    <tr>\n",
              "      <th>116</th>\n",
              "      <td>Mexico</td>\n",
              "      <td>2411503.0</td>\n",
              "      <td>223455.0</td>\n",
              "      <td>1924865.0</td>\n",
              "      <td>0.092662</td>\n",
              "      <td>0.798201</td>\n",
              "    </tr>\n",
              "    <tr>\n",
              "      <th>138</th>\n",
              "      <td>Peru</td>\n",
              "      <td>1947555.0</td>\n",
              "      <td>68978.0</td>\n",
              "      <td>1897522.0</td>\n",
              "      <td>0.035418</td>\n",
              "      <td>0.974310</td>\n",
              "    </tr>\n",
              "    <tr>\n",
              "      <th>84</th>\n",
              "      <td>Italy</td>\n",
              "      <td>4213055.0</td>\n",
              "      <td>126002.0</td>\n",
              "      <td>3845087.0</td>\n",
              "      <td>0.029908</td>\n",
              "      <td>0.912660</td>\n",
              "    </tr>\n",
              "    <tr>\n",
              "      <th>181</th>\n",
              "      <td>UK</td>\n",
              "      <td>4496823.0</td>\n",
              "      <td>128037.0</td>\n",
              "      <td>15481.0</td>\n",
              "      <td>0.028473</td>\n",
              "      <td>0.003443</td>\n",
              "    </tr>\n",
              "    <tr>\n",
              "      <th>23</th>\n",
              "      <td>Brazil</td>\n",
              "      <td>16471600.0</td>\n",
              "      <td>461057.0</td>\n",
              "      <td>14496224.0</td>\n",
              "      <td>0.027991</td>\n",
              "      <td>0.880074</td>\n",
              "    </tr>\n",
              "  </tbody>\n",
              "</table>\n",
              "</div>"
            ],
            "text/plain": [
              "    Country/Region   Confirmed  ...  Death Rate  Recovered Rate\n",
              "116         Mexico   2411503.0  ...    0.092662        0.798201\n",
              "138           Peru   1947555.0  ...    0.035418        0.974310\n",
              "84           Italy   4213055.0  ...    0.029908        0.912660\n",
              "181             UK   4496823.0  ...    0.028473        0.003443\n",
              "23          Brazil  16471600.0  ...    0.027991        0.880074\n",
              "\n",
              "[5 rows x 6 columns]"
            ]
          },
          "metadata": {
            "tags": []
          },
          "execution_count": 114
        }
      ]
    },
    {
      "cell_type": "code",
      "metadata": {
        "colab": {
          "base_uri": "https://localhost:8080/",
          "height": 204
        },
        "id": "iZR_UI-y2QgM",
        "outputId": "dfbb898a-5e12-41bf-f45c-1a69d262e549"
      },
      "source": [
        "group_country[group_country['Confirmed']>= 1809926].sort_values('Recovered Rate', ascending=False).head()"
      ],
      "execution_count": 115,
      "outputs": [
        {
          "output_type": "execute_result",
          "data": {
            "text/html": [
              "<div>\n",
              "<style scoped>\n",
              "    .dataframe tbody tr th:only-of-type {\n",
              "        vertical-align: middle;\n",
              "    }\n",
              "\n",
              "    .dataframe tbody tr th {\n",
              "        vertical-align: top;\n",
              "    }\n",
              "\n",
              "    .dataframe thead th {\n",
              "        text-align: right;\n",
              "    }\n",
              "</style>\n",
              "<table border=\"1\" class=\"dataframe\">\n",
              "  <thead>\n",
              "    <tr style=\"text-align: right;\">\n",
              "      <th></th>\n",
              "      <th>Country/Region</th>\n",
              "      <th>Confirmed</th>\n",
              "      <th>Deaths</th>\n",
              "      <th>Recovered</th>\n",
              "      <th>Death Rate</th>\n",
              "      <th>Recovered Rate</th>\n",
              "    </tr>\n",
              "  </thead>\n",
              "  <tbody>\n",
              "    <tr>\n",
              "      <th>138</th>\n",
              "      <td>Peru</td>\n",
              "      <td>1947555.0</td>\n",
              "      <td>68978.0</td>\n",
              "      <td>1897522.0</td>\n",
              "      <td>0.035418</td>\n",
              "      <td>0.974310</td>\n",
              "    </tr>\n",
              "    <tr>\n",
              "      <th>180</th>\n",
              "      <td>Turkey</td>\n",
              "      <td>5235978.0</td>\n",
              "      <td>47271.0</td>\n",
              "      <td>5094279.0</td>\n",
              "      <td>0.009028</td>\n",
              "      <td>0.972937</td>\n",
              "    </tr>\n",
              "    <tr>\n",
              "      <th>64</th>\n",
              "      <td>Germany</td>\n",
              "      <td>3684672.0</td>\n",
              "      <td>88413.0</td>\n",
              "      <td>3479700.0</td>\n",
              "      <td>0.023995</td>\n",
              "      <td>0.944372</td>\n",
              "    </tr>\n",
              "    <tr>\n",
              "      <th>36</th>\n",
              "      <td>Colombia</td>\n",
              "      <td>3363061.0</td>\n",
              "      <td>87747.0</td>\n",
              "      <td>3141549.0</td>\n",
              "      <td>0.026091</td>\n",
              "      <td>0.934134</td>\n",
              "    </tr>\n",
              "    <tr>\n",
              "      <th>144</th>\n",
              "      <td>Russia</td>\n",
              "      <td>4995613.0</td>\n",
              "      <td>118781.0</td>\n",
              "      <td>4616422.0</td>\n",
              "      <td>0.023777</td>\n",
              "      <td>0.924095</td>\n",
              "    </tr>\n",
              "  </tbody>\n",
              "</table>\n",
              "</div>"
            ],
            "text/plain": [
              "    Country/Region  Confirmed    Deaths  Recovered  Death Rate  Recovered Rate\n",
              "138           Peru  1947555.0   68978.0  1897522.0    0.035418        0.974310\n",
              "180         Turkey  5235978.0   47271.0  5094279.0    0.009028        0.972937\n",
              "64         Germany  3684672.0   88413.0  3479700.0    0.023995        0.944372\n",
              "36        Colombia  3363061.0   87747.0  3141549.0    0.026091        0.934134\n",
              "144         Russia  4995613.0  118781.0  4616422.0    0.023777        0.924095"
            ]
          },
          "metadata": {
            "tags": []
          },
          "execution_count": 115
        }
      ]
    },
    {
      "cell_type": "code",
      "metadata": {
        "colab": {
          "base_uri": "https://localhost:8080/"
        },
        "id": "8RpwMoUKpMTZ",
        "outputId": "7f0e5ed4-0b15-4c4c-9909-f1bddc69d34d"
      },
      "source": [
        "sum_confirm = group_country['Confirmed'].sum()\n",
        "sum_deaths = group_country['Deaths'].sum()\n",
        "sum_recovered = group_country['Recovered'].sum()\n",
        "\n",
        "print(sum_confirm)\n",
        "print(sum_deaths)\n",
        "print(sum_recovered)"
      ],
      "execution_count": 78,
      "outputs": [
        {
          "output_type": "stream",
          "text": [
            "169951560.0\n",
            "3533619.0\n",
            "107140669.0\n"
          ],
          "name": "stdout"
        }
      ]
    },
    {
      "cell_type": "code",
      "metadata": {
        "colab": {
          "base_uri": "https://localhost:8080/",
          "height": 276
        },
        "id": "8ZyOwea2pXAP",
        "outputId": "d8b68759-7480-4786-e0ad-e950fd9fe7a9"
      },
      "source": [
        "labels = ['Confirmed', 'Deaths', 'Recovered']\n",
        "value = [sum_confirm, sum_deaths, sum_recovered]\n",
        "\n",
        "plt.bar(labels, value)\n",
        "plt.show()"
      ],
      "execution_count": 89,
      "outputs": [
        {
          "output_type": "display_data",
          "data": {
            "image/png": "[encoded data removed]",
            "text/plain": [
              "<Figure size 432x288 with 1 Axes>"
            ]
          },
          "metadata": {
            "tags": [],
            "needs_background": "light"
          }
        }
      ]
    },
    {
      "cell_type": "code",
      "metadata": {
        "colab": {
          "base_uri": "https://localhost:8080/",
          "height": 347
        },
        "id": "oK5l6U8rtNKt",
        "outputId": "e9999e6d-31f2-4de0-e0ad-e2fa545bfa6a"
      },
      "source": [
        "import seaborn as sns\n",
        "\n",
        "sns.barplot(labels, value)"
      ],
      "execution_count": 88,
      "outputs": [
        {
          "output_type": "stream",
          "text": [
            "/usr/local/lib/python3.7/dist-packages/seaborn/_decorators.py:43: FutureWarning: Pass the following variables as keyword args: x, y. From version 0.12, the only valid positional argument will be `data`, and passing other arguments without an explicit keyword will result in an error or misinterpretation.\n",
            "  FutureWarning\n"
          ],
          "name": "stderr"
        },
        {
          "output_type": "execute_result",
          "data": {
            "text/plain": [
              "<matplotlib.axes._subplots.AxesSubplot at 0x7f5683ebe350>"
            ]
          },
          "metadata": {
            "tags": []
          },
          "execution_count": 88
        },
        {
          "output_type": "display_data",
          "data": {
            "image/png": "[encoded data removed]",
            "text/plain": [
              "<Figure size 432x288 with 1 Axes>"
            ]
          },
          "metadata": {
            "tags": [],
            "needs_background": "light"
          }
        }
      ]
    },
    {
      "cell_type": "code",
      "metadata": {
        "colab": {
          "base_uri": "https://localhost:8080/",
          "height": 575
        },
        "id": "KbMdwR57q2p8",
        "outputId": "aece3c0c-6110-493b-9c1c-b5e5b9e2b54e"
      },
      "source": [
        "color= ['blue','red','green']\n",
        "explode = []\n",
        "\n",
        "for i in labels:\n",
        "    explode.append(0.05)\n",
        "    \n",
        "plt.figure(figsize= (15,10))\n",
        "plt.pie(value, labels=labels, autopct='%5.1f%%', startangle=9, explode =explode,colors = color)\n",
        "centre_circle = plt.Circle((0,0),0.70,fc='white')"
      ],
      "execution_count": 87,
      "outputs": [
        {
          "output_type": "display_data",
          "data": {
            "image/png": "[encoded data removed]",
            "text/plain": [
              "<Figure size 1080x720 with 1 Axes>"
            ]
          },
          "metadata": {
            "tags": []
          }
        }
      ]
    },
    {
      "cell_type": "code",
      "metadata": {
        "id": "PByApHslrFql"
      },
      "source": [
        ""
      ],
      "execution_count": null,
      "outputs": []
    }
  ]
}