{
  "nbformat": 4,
  "nbformat_minor": 0,
  "metadata": {
    "colab": {
      "name": "JSC.ipynb",
      "provenance": [],
      "mount_file_id": "1w8zCnE9y1ifupwcCKlHiGQwI1RsKIBOB",
      "authorship_tag": "ABX9TyOrb2qDmHDsxlzT0NObP01E",
      "include_colab_link": true
    },
    "kernelspec": {
      "name": "python3",
      "display_name": "Python 3"
    },
    "language_info": {
      "name": "python"
    }
  },
  "cells": [
    {
      "cell_type": "markdown",
      "metadata": {
        "id": "view-in-github",
        "colab_type": "text"
      },
      "source": [
        "<a href=\"https://colab.research.google.com/github/ReynaraEzra/Data-Science-Trainee/blob/main/JSC.ipynb\" target=\"_parent\"><img src=\"https://colab.research.google.com/assets/colab-badge.svg\" alt=\"Open In Colab\"/></a>"
      ]
    },
    {
      "cell_type": "code",
      "metadata": {
        "colab": {
          "base_uri": "https://localhost:8080/",
          "height": 204
        },
        "id": "B4Tcy1aBdaEe",
        "outputId": "0799f9d7-7cd0-4e68-ec26-eab4d78b4b3d"
      },
      "source": [
        "import pandas as pd\n",
        "data = pd.read_csv(\"/content/drive/MyDrive/DST/covid_19_data.csv\")\n",
        "data.head()"
      ],
      "execution_count": 35,
      "outputs": [
        {
          "output_type": "execute_result",
          "data": {
            "text/html": [
              "<div>\n",
              "<style scoped>\n",
              "    .dataframe tbody tr th:only-of-type {\n",
              "        vertical-align: middle;\n",
              "    }\n",
              "\n",
              "    .dataframe tbody tr th {\n",
              "        vertical-align: top;\n",
              "    }\n",
              "\n",
              "    .dataframe thead th {\n",
              "        text-align: right;\n",
              "    }\n",
              "</style>\n",
              "<table border=\"1\" class=\"dataframe\">\n",
              "  <thead>\n",
              "    <tr style=\"text-align: right;\">\n",
              "      <th></th>\n",
              "      <th>SNo</th>\n",
              "      <th>ObservationDate</th>\n",
              "      <th>Province/State</th>\n",
              "      <th>Country/Region</th>\n",
              "      <th>Last Update</th>\n",
              "      <th>Confirmed</th>\n",
              "      <th>Deaths</th>\n",
              "      <th>Recovered</th>\n",
              "    </tr>\n",
              "  </thead>\n",
              "  <tbody>\n",
              "    <tr>\n",
              "      <th>0</th>\n",
              "      <td>1</td>\n",
              "      <td>01/22/2020</td>\n",
              "      <td>Anhui</td>\n",
              "      <td>Mainland China</td>\n",
              "      <td>1/22/2020 17:00</td>\n",
              "      <td>1.0</td>\n",
              "      <td>0.0</td>\n",
              "      <td>0.0</td>\n",
              "    </tr>\n",
              "    <tr>\n",
              "      <th>1</th>\n",
              "      <td>2</td>\n",
              "      <td>01/22/2020</td>\n",
              "      <td>Beijing</td>\n",
              "      <td>Mainland China</td>\n",
              "      <td>1/22/2020 17:00</td>\n",
              "      <td>14.0</td>\n",
              "      <td>0.0</td>\n",
              "      <td>0.0</td>\n",
              "    </tr>\n",
              "    <tr>\n",
              "      <th>2</th>\n",
              "      <td>3</td>\n",
              "      <td>01/22/2020</td>\n",
              "      <td>Chongqing</td>\n",
              "      <td>Mainland China</td>\n",
              "      <td>1/22/2020 17:00</td>\n",
              "      <td>6.0</td>\n",
              "      <td>0.0</td>\n",
              "      <td>0.0</td>\n",
              "    </tr>\n",
              "    <tr>\n",
              "      <th>3</th>\n",
              "      <td>4</td>\n",
              "      <td>01/22/2020</td>\n",
              "      <td>Fujian</td>\n",
              "      <td>Mainland China</td>\n",
              "      <td>1/22/2020 17:00</td>\n",
              "      <td>1.0</td>\n",
              "      <td>0.0</td>\n",
              "      <td>0.0</td>\n",
              "    </tr>\n",
              "    <tr>\n",
              "      <th>4</th>\n",
              "      <td>5</td>\n",
              "      <td>01/22/2020</td>\n",
              "      <td>Gansu</td>\n",
              "      <td>Mainland China</td>\n",
              "      <td>1/22/2020 17:00</td>\n",
              "      <td>0.0</td>\n",
              "      <td>0.0</td>\n",
              "      <td>0.0</td>\n",
              "    </tr>\n",
              "  </tbody>\n",
              "</table>\n",
              "</div>"
            ],
            "text/plain": [
              "   SNo ObservationDate Province/State  ... Confirmed Deaths  Recovered\n",
              "0    1      01/22/2020          Anhui  ...       1.0    0.0        0.0\n",
              "1    2      01/22/2020        Beijing  ...      14.0    0.0        0.0\n",
              "2    3      01/22/2020      Chongqing  ...       6.0    0.0        0.0\n",
              "3    4      01/22/2020         Fujian  ...       1.0    0.0        0.0\n",
              "4    5      01/22/2020          Gansu  ...       0.0    0.0        0.0\n",
              "\n",
              "[5 rows x 8 columns]"
            ]
          },
          "metadata": {
            "tags": []
          },
          "execution_count": 35
        }
      ]
    },
    {
      "cell_type": "code",
      "metadata": {
        "colab": {
          "base_uri": "https://localhost:8080/",
          "height": 419
        },
        "id": "g2kSVz4OSVeo",
        "outputId": "18eae338-0865-45e9-f529-0ff21e623ebe"
      },
      "source": [
        "data_jkt = data[data['Country/Region']=='Indonesia']\n",
        "data_jkt"
      ],
      "execution_count": 36,
      "outputs": [
        {
          "output_type": "execute_result",
          "data": {
            "text/html": [
              "<div>\n",
              "<style scoped>\n",
              "    .dataframe tbody tr th:only-of-type {\n",
              "        vertical-align: middle;\n",
              "    }\n",
              "\n",
              "    .dataframe tbody tr th {\n",
              "        vertical-align: top;\n",
              "    }\n",
              "\n",
              "    .dataframe thead th {\n",
              "        text-align: right;\n",
              "    }\n",
              "</style>\n",
              "<table border=\"1\" class=\"dataframe\">\n",
              "  <thead>\n",
              "    <tr style=\"text-align: right;\">\n",
              "      <th></th>\n",
              "      <th>SNo</th>\n",
              "      <th>ObservationDate</th>\n",
              "      <th>Province/State</th>\n",
              "      <th>Country/Region</th>\n",
              "      <th>Last Update</th>\n",
              "      <th>Confirmed</th>\n",
              "      <th>Deaths</th>\n",
              "      <th>Recovered</th>\n",
              "    </tr>\n",
              "  </thead>\n",
              "  <tbody>\n",
              "    <tr>\n",
              "      <th>3114</th>\n",
              "      <td>3115</td>\n",
              "      <td>03/02/2020</td>\n",
              "      <td>NaN</td>\n",
              "      <td>Indonesia</td>\n",
              "      <td>2020-03-02T18:03:04</td>\n",
              "      <td>2.0</td>\n",
              "      <td>0.0</td>\n",
              "      <td>0.0</td>\n",
              "    </tr>\n",
              "    <tr>\n",
              "      <th>3258</th>\n",
              "      <td>3259</td>\n",
              "      <td>03/03/2020</td>\n",
              "      <td>NaN</td>\n",
              "      <td>Indonesia</td>\n",
              "      <td>2020-03-02T18:03:04</td>\n",
              "      <td>2.0</td>\n",
              "      <td>0.0</td>\n",
              "      <td>0.0</td>\n",
              "    </tr>\n",
              "    <tr>\n",
              "      <th>3421</th>\n",
              "      <td>3422</td>\n",
              "      <td>03/04/2020</td>\n",
              "      <td>NaN</td>\n",
              "      <td>Indonesia</td>\n",
              "      <td>2020-03-02T18:03:04</td>\n",
              "      <td>2.0</td>\n",
              "      <td>0.0</td>\n",
              "      <td>0.0</td>\n",
              "    </tr>\n",
              "    <tr>\n",
              "      <th>3590</th>\n",
              "      <td>3591</td>\n",
              "      <td>03/05/2020</td>\n",
              "      <td>NaN</td>\n",
              "      <td>Indonesia</td>\n",
              "      <td>2020-03-02T18:03:04</td>\n",
              "      <td>2.0</td>\n",
              "      <td>0.0</td>\n",
              "      <td>0.0</td>\n",
              "    </tr>\n",
              "    <tr>\n",
              "      <th>3760</th>\n",
              "      <td>3761</td>\n",
              "      <td>03/06/2020</td>\n",
              "      <td>NaN</td>\n",
              "      <td>Indonesia</td>\n",
              "      <td>2020-03-06T12:33:03</td>\n",
              "      <td>4.0</td>\n",
              "      <td>0.0</td>\n",
              "      <td>0.0</td>\n",
              "    </tr>\n",
              "    <tr>\n",
              "      <th>...</th>\n",
              "      <td>...</td>\n",
              "      <td>...</td>\n",
              "      <td>...</td>\n",
              "      <td>...</td>\n",
              "      <td>...</td>\n",
              "      <td>...</td>\n",
              "      <td>...</td>\n",
              "      <td>...</td>\n",
              "    </tr>\n",
              "    <tr>\n",
              "      <th>302674</th>\n",
              "      <td>302675</td>\n",
              "      <td>05/25/2021</td>\n",
              "      <td>NaN</td>\n",
              "      <td>Indonesia</td>\n",
              "      <td>2021-05-26 04:20:35</td>\n",
              "      <td>1786187.0</td>\n",
              "      <td>49627.0</td>\n",
              "      <td>1642074.0</td>\n",
              "    </tr>\n",
              "    <tr>\n",
              "      <th>303439</th>\n",
              "      <td>303440</td>\n",
              "      <td>05/26/2021</td>\n",
              "      <td>NaN</td>\n",
              "      <td>Indonesia</td>\n",
              "      <td>2021-05-27 04:20:59</td>\n",
              "      <td>1791221.0</td>\n",
              "      <td>49771.0</td>\n",
              "      <td>1645263.0</td>\n",
              "    </tr>\n",
              "    <tr>\n",
              "      <th>304204</th>\n",
              "      <td>304205</td>\n",
              "      <td>05/27/2021</td>\n",
              "      <td>NaN</td>\n",
              "      <td>Indonesia</td>\n",
              "      <td>2021-05-28 04:20:36</td>\n",
              "      <td>1797499.0</td>\n",
              "      <td>49907.0</td>\n",
              "      <td>1649187.0</td>\n",
              "    </tr>\n",
              "    <tr>\n",
              "      <th>304969</th>\n",
              "      <td>304970</td>\n",
              "      <td>05/28/2021</td>\n",
              "      <td>NaN</td>\n",
              "      <td>Indonesia</td>\n",
              "      <td>2021-05-29 04:20:41</td>\n",
              "      <td>1803361.0</td>\n",
              "      <td>50100.0</td>\n",
              "      <td>1654557.0</td>\n",
              "    </tr>\n",
              "    <tr>\n",
              "      <th>305734</th>\n",
              "      <td>305735</td>\n",
              "      <td>05/29/2021</td>\n",
              "      <td>NaN</td>\n",
              "      <td>Indonesia</td>\n",
              "      <td>2021-05-30 04:20:55</td>\n",
              "      <td>1809926.0</td>\n",
              "      <td>50262.0</td>\n",
              "      <td>1659974.0</td>\n",
              "    </tr>\n",
              "  </tbody>\n",
              "</table>\n",
              "<p>454 rows × 8 columns</p>\n",
              "</div>"
            ],
            "text/plain": [
              "           SNo ObservationDate Province/State  ...  Confirmed   Deaths  Recovered\n",
              "3114      3115      03/02/2020            NaN  ...        2.0      0.0        0.0\n",
              "3258      3259      03/03/2020            NaN  ...        2.0      0.0        0.0\n",
              "3421      3422      03/04/2020            NaN  ...        2.0      0.0        0.0\n",
              "3590      3591      03/05/2020            NaN  ...        2.0      0.0        0.0\n",
              "3760      3761      03/06/2020            NaN  ...        4.0      0.0        0.0\n",
              "...        ...             ...            ...  ...        ...      ...        ...\n",
              "302674  302675      05/25/2021            NaN  ...  1786187.0  49627.0  1642074.0\n",
              "303439  303440      05/26/2021            NaN  ...  1791221.0  49771.0  1645263.0\n",
              "304204  304205      05/27/2021            NaN  ...  1797499.0  49907.0  1649187.0\n",
              "304969  304970      05/28/2021            NaN  ...  1803361.0  50100.0  1654557.0\n",
              "305734  305735      05/29/2021            NaN  ...  1809926.0  50262.0  1659974.0\n",
              "\n",
              "[454 rows x 8 columns]"
            ]
          },
          "metadata": {
            "tags": []
          },
          "execution_count": 36
        }
      ]
    },
    {
      "cell_type": "code",
      "metadata": {
        "colab": {
          "base_uri": "https://localhost:8080/"
        },
        "id": "OeGiWolrSetm",
        "outputId": "596a4bc1-22e2-4bf3-f510-b315c549ee6d"
      },
      "source": [
        "data_jkt.info()"
      ],
      "execution_count": 37,
      "outputs": [
        {
          "output_type": "stream",
          "text": [
            "<class 'pandas.core.frame.DataFrame'>\n",
            "Int64Index: 454 entries, 3114 to 305734\n",
            "Data columns (total 8 columns):\n",
            " #   Column           Non-Null Count  Dtype  \n",
            "---  ------           --------------  -----  \n",
            " 0   SNo              454 non-null    int64  \n",
            " 1   ObservationDate  454 non-null    object \n",
            " 2   Province/State   0 non-null      object \n",
            " 3   Country/Region   454 non-null    object \n",
            " 4   Last Update      454 non-null    object \n",
            " 5   Confirmed        454 non-null    float64\n",
            " 6   Deaths           454 non-null    float64\n",
            " 7   Recovered        454 non-null    float64\n",
            "dtypes: float64(3), int64(1), object(4)\n",
            "memory usage: 31.9+ KB\n"
          ],
          "name": "stdout"
        }
      ]
    },
    {
      "cell_type": "code",
      "metadata": {
        "colab": {
          "base_uri": "https://localhost:8080/"
        },
        "id": "kWdx2NYSi6KK",
        "outputId": "ce391ae8-8dc3-49c8-b9cd-4fd3b3db552c"
      },
      "source": [
        "data_jkt.drop(['SNo', 'Province/State', 'Last Update'], axis=1, inplace=True)"
      ],
      "execution_count": 38,
      "outputs": [
        {
          "output_type": "stream",
          "text": [
            "/usr/local/lib/python3.7/dist-packages/pandas/core/frame.py:4174: SettingWithCopyWarning: \n",
            "A value is trying to be set on a copy of a slice from a DataFrame\n",
            "\n",
            "See the caveats in the documentation: https://pandas.pydata.org/pandas-docs/stable/user_guide/indexing.html#returning-a-view-versus-a-copy\n",
            "  errors=errors,\n"
          ],
          "name": "stderr"
        }
      ]
    },
    {
      "cell_type": "code",
      "metadata": {
        "id": "sGe1sxHomBJL"
      },
      "source": [
        "data_jkt = data_jkt.reset_index()"
      ],
      "execution_count": 39,
      "outputs": []
    },
    {
      "cell_type": "code",
      "metadata": {
        "id": "m5XDnmVSmFPR"
      },
      "source": [
        "data_jkt.drop('index', axis=1, inplace=True)"
      ],
      "execution_count": 40,
      "outputs": []
    },
    {
      "cell_type": "code",
      "metadata": {
        "colab": {
          "base_uri": "https://localhost:8080/",
          "height": 419
        },
        "id": "CHwBUtUumB1D",
        "outputId": "5d2451c3-3a72-46a5-e0db-f41fd000b8bb"
      },
      "source": [
        "data_jkt"
      ],
      "execution_count": 41,
      "outputs": [
        {
          "output_type": "execute_result",
          "data": {
            "text/html": [
              "<div>\n",
              "<style scoped>\n",
              "    .dataframe tbody tr th:only-of-type {\n",
              "        vertical-align: middle;\n",
              "    }\n",
              "\n",
              "    .dataframe tbody tr th {\n",
              "        vertical-align: top;\n",
              "    }\n",
              "\n",
              "    .dataframe thead th {\n",
              "        text-align: right;\n",
              "    }\n",
              "</style>\n",
              "<table border=\"1\" class=\"dataframe\">\n",
              "  <thead>\n",
              "    <tr style=\"text-align: right;\">\n",
              "      <th></th>\n",
              "      <th>ObservationDate</th>\n",
              "      <th>Country/Region</th>\n",
              "      <th>Confirmed</th>\n",
              "      <th>Deaths</th>\n",
              "      <th>Recovered</th>\n",
              "    </tr>\n",
              "  </thead>\n",
              "  <tbody>\n",
              "    <tr>\n",
              "      <th>0</th>\n",
              "      <td>03/02/2020</td>\n",
              "      <td>Indonesia</td>\n",
              "      <td>2.0</td>\n",
              "      <td>0.0</td>\n",
              "      <td>0.0</td>\n",
              "    </tr>\n",
              "    <tr>\n",
              "      <th>1</th>\n",
              "      <td>03/03/2020</td>\n",
              "      <td>Indonesia</td>\n",
              "      <td>2.0</td>\n",
              "      <td>0.0</td>\n",
              "      <td>0.0</td>\n",
              "    </tr>\n",
              "    <tr>\n",
              "      <th>2</th>\n",
              "      <td>03/04/2020</td>\n",
              "      <td>Indonesia</td>\n",
              "      <td>2.0</td>\n",
              "      <td>0.0</td>\n",
              "      <td>0.0</td>\n",
              "    </tr>\n",
              "    <tr>\n",
              "      <th>3</th>\n",
              "      <td>03/05/2020</td>\n",
              "      <td>Indonesia</td>\n",
              "      <td>2.0</td>\n",
              "      <td>0.0</td>\n",
              "      <td>0.0</td>\n",
              "    </tr>\n",
              "    <tr>\n",
              "      <th>4</th>\n",
              "      <td>03/06/2020</td>\n",
              "      <td>Indonesia</td>\n",
              "      <td>4.0</td>\n",
              "      <td>0.0</td>\n",
              "      <td>0.0</td>\n",
              "    </tr>\n",
              "    <tr>\n",
              "      <th>...</th>\n",
              "      <td>...</td>\n",
              "      <td>...</td>\n",
              "      <td>...</td>\n",
              "      <td>...</td>\n",
              "      <td>...</td>\n",
              "    </tr>\n",
              "    <tr>\n",
              "      <th>449</th>\n",
              "      <td>05/25/2021</td>\n",
              "      <td>Indonesia</td>\n",
              "      <td>1786187.0</td>\n",
              "      <td>49627.0</td>\n",
              "      <td>1642074.0</td>\n",
              "    </tr>\n",
              "    <tr>\n",
              "      <th>450</th>\n",
              "      <td>05/26/2021</td>\n",
              "      <td>Indonesia</td>\n",
              "      <td>1791221.0</td>\n",
              "      <td>49771.0</td>\n",
              "      <td>1645263.0</td>\n",
              "    </tr>\n",
              "    <tr>\n",
              "      <th>451</th>\n",
              "      <td>05/27/2021</td>\n",
              "      <td>Indonesia</td>\n",
              "      <td>1797499.0</td>\n",
              "      <td>49907.0</td>\n",
              "      <td>1649187.0</td>\n",
              "    </tr>\n",
              "    <tr>\n",
              "      <th>452</th>\n",
              "      <td>05/28/2021</td>\n",
              "      <td>Indonesia</td>\n",
              "      <td>1803361.0</td>\n",
              "      <td>50100.0</td>\n",
              "      <td>1654557.0</td>\n",
              "    </tr>\n",
              "    <tr>\n",
              "      <th>453</th>\n",
              "      <td>05/29/2021</td>\n",
              "      <td>Indonesia</td>\n",
              "      <td>1809926.0</td>\n",
              "      <td>50262.0</td>\n",
              "      <td>1659974.0</td>\n",
              "    </tr>\n",
              "  </tbody>\n",
              "</table>\n",
              "<p>454 rows × 5 columns</p>\n",
              "</div>"
            ],
            "text/plain": [
              "    ObservationDate Country/Region  Confirmed   Deaths  Recovered\n",
              "0        03/02/2020      Indonesia        2.0      0.0        0.0\n",
              "1        03/03/2020      Indonesia        2.0      0.0        0.0\n",
              "2        03/04/2020      Indonesia        2.0      0.0        0.0\n",
              "3        03/05/2020      Indonesia        2.0      0.0        0.0\n",
              "4        03/06/2020      Indonesia        4.0      0.0        0.0\n",
              "..              ...            ...        ...      ...        ...\n",
              "449      05/25/2021      Indonesia  1786187.0  49627.0  1642074.0\n",
              "450      05/26/2021      Indonesia  1791221.0  49771.0  1645263.0\n",
              "451      05/27/2021      Indonesia  1797499.0  49907.0  1649187.0\n",
              "452      05/28/2021      Indonesia  1803361.0  50100.0  1654557.0\n",
              "453      05/29/2021      Indonesia  1809926.0  50262.0  1659974.0\n",
              "\n",
              "[454 rows x 5 columns]"
            ]
          },
          "metadata": {
            "tags": []
          },
          "execution_count": 41
        }
      ]
    },
    {
      "cell_type": "code",
      "metadata": {
        "id": "jpVncY0AmPZb"
      },
      "source": [
        "data_jkt['Daily Confirmed'] = data_jkt['Confirmed']\n",
        "data_jkt['Daily Deaths'] = data_jkt['Deaths']\n",
        "data_jkt['Daily Recovered'] = data_jkt['Recovered']"
      ],
      "execution_count": 42,
      "outputs": []
    },
    {
      "cell_type": "code",
      "metadata": {
        "colab": {
          "base_uri": "https://localhost:8080/"
        },
        "id": "pcWIPO1vmVdm",
        "outputId": "e50b170e-1d8e-4e11-d562-eca4a083eabd"
      },
      "source": [
        "for i in range(1,len(data_jkt)):\n",
        "  data_jkt['Daily Confirmed'].loc[i] = data_jkt['Confirmed'].loc[i] - data_jkt['Confirmed'].loc[i-1]\n",
        "  data_jkt['Daily Deaths'].loc[i] = data_jkt['Deaths'].loc[i] - data_jkt['Deaths'].loc[i-1]\n",
        "  data_jkt['Daily Recovered'].loc[i] = data_jkt['Recovered'].loc[i] - data_jkt['Recovered'].loc[i-1]"
      ],
      "execution_count": 43,
      "outputs": [
        {
          "output_type": "stream",
          "text": [
            "/usr/local/lib/python3.7/dist-packages/pandas/core/indexing.py:670: SettingWithCopyWarning: \n",
            "A value is trying to be set on a copy of a slice from a DataFrame\n",
            "\n",
            "See the caveats in the documentation: https://pandas.pydata.org/pandas-docs/stable/user_guide/indexing.html#returning-a-view-versus-a-copy\n",
            "  iloc._setitem_with_indexer(indexer, value)\n"
          ],
          "name": "stderr"
        }
      ]
    },
    {
      "cell_type": "code",
      "metadata": {
        "colab": {
          "base_uri": "https://localhost:8080/",
          "height": 419
        },
        "id": "Qt7jUvG4AHuV",
        "outputId": "9b266899-81d5-4593-8456-9c9dceaf7837"
      },
      "source": [
        "data_jkt"
      ],
      "execution_count": 44,
      "outputs": [
        {
          "output_type": "execute_result",
          "data": {
            "text/html": [
              "<div>\n",
              "<style scoped>\n",
              "    .dataframe tbody tr th:only-of-type {\n",
              "        vertical-align: middle;\n",
              "    }\n",
              "\n",
              "    .dataframe tbody tr th {\n",
              "        vertical-align: top;\n",
              "    }\n",
              "\n",
              "    .dataframe thead th {\n",
              "        text-align: right;\n",
              "    }\n",
              "</style>\n",
              "<table border=\"1\" class=\"dataframe\">\n",
              "  <thead>\n",
              "    <tr style=\"text-align: right;\">\n",
              "      <th></th>\n",
              "      <th>ObservationDate</th>\n",
              "      <th>Country/Region</th>\n",
              "      <th>Confirmed</th>\n",
              "      <th>Deaths</th>\n",
              "      <th>Recovered</th>\n",
              "      <th>Daily Confirmed</th>\n",
              "      <th>Daily Deaths</th>\n",
              "      <th>Daily Recovered</th>\n",
              "    </tr>\n",
              "  </thead>\n",
              "  <tbody>\n",
              "    <tr>\n",
              "      <th>0</th>\n",
              "      <td>03/02/2020</td>\n",
              "      <td>Indonesia</td>\n",
              "      <td>2.0</td>\n",
              "      <td>0.0</td>\n",
              "      <td>0.0</td>\n",
              "      <td>2.0</td>\n",
              "      <td>0.0</td>\n",
              "      <td>0.0</td>\n",
              "    </tr>\n",
              "    <tr>\n",
              "      <th>1</th>\n",
              "      <td>03/03/2020</td>\n",
              "      <td>Indonesia</td>\n",
              "      <td>2.0</td>\n",
              "      <td>0.0</td>\n",
              "      <td>0.0</td>\n",
              "      <td>0.0</td>\n",
              "      <td>0.0</td>\n",
              "      <td>0.0</td>\n",
              "    </tr>\n",
              "    <tr>\n",
              "      <th>2</th>\n",
              "      <td>03/04/2020</td>\n",
              "      <td>Indonesia</td>\n",
              "      <td>2.0</td>\n",
              "      <td>0.0</td>\n",
              "      <td>0.0</td>\n",
              "      <td>0.0</td>\n",
              "      <td>0.0</td>\n",
              "      <td>0.0</td>\n",
              "    </tr>\n",
              "    <tr>\n",
              "      <th>3</th>\n",
              "      <td>03/05/2020</td>\n",
              "      <td>Indonesia</td>\n",
              "      <td>2.0</td>\n",
              "      <td>0.0</td>\n",
              "      <td>0.0</td>\n",
              "      <td>0.0</td>\n",
              "      <td>0.0</td>\n",
              "      <td>0.0</td>\n",
              "    </tr>\n",
              "    <tr>\n",
              "      <th>4</th>\n",
              "      <td>03/06/2020</td>\n",
              "      <td>Indonesia</td>\n",
              "      <td>4.0</td>\n",
              "      <td>0.0</td>\n",
              "      <td>0.0</td>\n",
              "      <td>2.0</td>\n",
              "      <td>0.0</td>\n",
              "      <td>0.0</td>\n",
              "    </tr>\n",
              "    <tr>\n",
              "      <th>...</th>\n",
              "      <td>...</td>\n",
              "      <td>...</td>\n",
              "      <td>...</td>\n",
              "      <td>...</td>\n",
              "      <td>...</td>\n",
              "      <td>...</td>\n",
              "      <td>...</td>\n",
              "      <td>...</td>\n",
              "    </tr>\n",
              "    <tr>\n",
              "      <th>449</th>\n",
              "      <td>05/25/2021</td>\n",
              "      <td>Indonesia</td>\n",
              "      <td>1786187.0</td>\n",
              "      <td>49627.0</td>\n",
              "      <td>1642074.0</td>\n",
              "      <td>5060.0</td>\n",
              "      <td>172.0</td>\n",
              "      <td>3795.0</td>\n",
              "    </tr>\n",
              "    <tr>\n",
              "      <th>450</th>\n",
              "      <td>05/26/2021</td>\n",
              "      <td>Indonesia</td>\n",
              "      <td>1791221.0</td>\n",
              "      <td>49771.0</td>\n",
              "      <td>1645263.0</td>\n",
              "      <td>5034.0</td>\n",
              "      <td>144.0</td>\n",
              "      <td>3189.0</td>\n",
              "    </tr>\n",
              "    <tr>\n",
              "      <th>451</th>\n",
              "      <td>05/27/2021</td>\n",
              "      <td>Indonesia</td>\n",
              "      <td>1797499.0</td>\n",
              "      <td>49907.0</td>\n",
              "      <td>1649187.0</td>\n",
              "      <td>6278.0</td>\n",
              "      <td>136.0</td>\n",
              "      <td>3924.0</td>\n",
              "    </tr>\n",
              "    <tr>\n",
              "      <th>452</th>\n",
              "      <td>05/28/2021</td>\n",
              "      <td>Indonesia</td>\n",
              "      <td>1803361.0</td>\n",
              "      <td>50100.0</td>\n",
              "      <td>1654557.0</td>\n",
              "      <td>5862.0</td>\n",
              "      <td>193.0</td>\n",
              "      <td>5370.0</td>\n",
              "    </tr>\n",
              "    <tr>\n",
              "      <th>453</th>\n",
              "      <td>05/29/2021</td>\n",
              "      <td>Indonesia</td>\n",
              "      <td>1809926.0</td>\n",
              "      <td>50262.0</td>\n",
              "      <td>1659974.0</td>\n",
              "      <td>6565.0</td>\n",
              "      <td>162.0</td>\n",
              "      <td>5417.0</td>\n",
              "    </tr>\n",
              "  </tbody>\n",
              "</table>\n",
              "<p>454 rows × 8 columns</p>\n",
              "</div>"
            ],
            "text/plain": [
              "    ObservationDate Country/Region  ...  Daily Deaths  Daily Recovered\n",
              "0        03/02/2020      Indonesia  ...           0.0              0.0\n",
              "1        03/03/2020      Indonesia  ...           0.0              0.0\n",
              "2        03/04/2020      Indonesia  ...           0.0              0.0\n",
              "3        03/05/2020      Indonesia  ...           0.0              0.0\n",
              "4        03/06/2020      Indonesia  ...           0.0              0.0\n",
              "..              ...            ...  ...           ...              ...\n",
              "449      05/25/2021      Indonesia  ...         172.0           3795.0\n",
              "450      05/26/2021      Indonesia  ...         144.0           3189.0\n",
              "451      05/27/2021      Indonesia  ...         136.0           3924.0\n",
              "452      05/28/2021      Indonesia  ...         193.0           5370.0\n",
              "453      05/29/2021      Indonesia  ...         162.0           5417.0\n",
              "\n",
              "[454 rows x 8 columns]"
            ]
          },
          "metadata": {
            "tags": []
          },
          "execution_count": 44
        }
      ]
    },
    {
      "cell_type": "code",
      "metadata": {
        "colab": {
          "base_uri": "https://localhost:8080/"
        },
        "id": "xbvpB7lgnFvC",
        "outputId": "86b3b531-8bc5-4172-c6b4-3024e5afbe1c"
      },
      "source": [
        "data_jkt['ObservationDate'] = pd.to_datetime(data_jkt['ObservationDate'])\n",
        "data_jkt.info()"
      ],
      "execution_count": 45,
      "outputs": [
        {
          "output_type": "stream",
          "text": [
            "<class 'pandas.core.frame.DataFrame'>\n",
            "RangeIndex: 454 entries, 0 to 453\n",
            "Data columns (total 8 columns):\n",
            " #   Column           Non-Null Count  Dtype         \n",
            "---  ------           --------------  -----         \n",
            " 0   ObservationDate  454 non-null    datetime64[ns]\n",
            " 1   Country/Region   454 non-null    object        \n",
            " 2   Confirmed        454 non-null    float64       \n",
            " 3   Deaths           454 non-null    float64       \n",
            " 4   Recovered        454 non-null    float64       \n",
            " 5   Daily Confirmed  454 non-null    float64       \n",
            " 6   Daily Deaths     454 non-null    float64       \n",
            " 7   Daily Recovered  454 non-null    float64       \n",
            "dtypes: datetime64[ns](1), float64(6), object(1)\n",
            "memory usage: 28.5+ KB\n"
          ],
          "name": "stdout"
        }
      ]
    },
    {
      "cell_type": "code",
      "metadata": {
        "colab": {
          "base_uri": "https://localhost:8080/",
          "height": 419
        },
        "id": "E85EmXJr9Lhm",
        "outputId": "2d6c65e1-332d-4d52-b17a-3ae8f8d383f4"
      },
      "source": [
        "data_jkt"
      ],
      "execution_count": 46,
      "outputs": [
        {
          "output_type": "execute_result",
          "data": {
            "text/html": [
              "<div>\n",
              "<style scoped>\n",
              "    .dataframe tbody tr th:only-of-type {\n",
              "        vertical-align: middle;\n",
              "    }\n",
              "\n",
              "    .dataframe tbody tr th {\n",
              "        vertical-align: top;\n",
              "    }\n",
              "\n",
              "    .dataframe thead th {\n",
              "        text-align: right;\n",
              "    }\n",
              "</style>\n",
              "<table border=\"1\" class=\"dataframe\">\n",
              "  <thead>\n",
              "    <tr style=\"text-align: right;\">\n",
              "      <th></th>\n",
              "      <th>ObservationDate</th>\n",
              "      <th>Country/Region</th>\n",
              "      <th>Confirmed</th>\n",
              "      <th>Deaths</th>\n",
              "      <th>Recovered</th>\n",
              "      <th>Daily Confirmed</th>\n",
              "      <th>Daily Deaths</th>\n",
              "      <th>Daily Recovered</th>\n",
              "    </tr>\n",
              "  </thead>\n",
              "  <tbody>\n",
              "    <tr>\n",
              "      <th>0</th>\n",
              "      <td>2020-03-02</td>\n",
              "      <td>Indonesia</td>\n",
              "      <td>2.0</td>\n",
              "      <td>0.0</td>\n",
              "      <td>0.0</td>\n",
              "      <td>2.0</td>\n",
              "      <td>0.0</td>\n",
              "      <td>0.0</td>\n",
              "    </tr>\n",
              "    <tr>\n",
              "      <th>1</th>\n",
              "      <td>2020-03-03</td>\n",
              "      <td>Indonesia</td>\n",
              "      <td>2.0</td>\n",
              "      <td>0.0</td>\n",
              "      <td>0.0</td>\n",
              "      <td>0.0</td>\n",
              "      <td>0.0</td>\n",
              "      <td>0.0</td>\n",
              "    </tr>\n",
              "    <tr>\n",
              "      <th>2</th>\n",
              "      <td>2020-03-04</td>\n",
              "      <td>Indonesia</td>\n",
              "      <td>2.0</td>\n",
              "      <td>0.0</td>\n",
              "      <td>0.0</td>\n",
              "      <td>0.0</td>\n",
              "      <td>0.0</td>\n",
              "      <td>0.0</td>\n",
              "    </tr>\n",
              "    <tr>\n",
              "      <th>3</th>\n",
              "      <td>2020-03-05</td>\n",
              "      <td>Indonesia</td>\n",
              "      <td>2.0</td>\n",
              "      <td>0.0</td>\n",
              "      <td>0.0</td>\n",
              "      <td>0.0</td>\n",
              "      <td>0.0</td>\n",
              "      <td>0.0</td>\n",
              "    </tr>\n",
              "    <tr>\n",
              "      <th>4</th>\n",
              "      <td>2020-03-06</td>\n",
              "      <td>Indonesia</td>\n",
              "      <td>4.0</td>\n",
              "      <td>0.0</td>\n",
              "      <td>0.0</td>\n",
              "      <td>2.0</td>\n",
              "      <td>0.0</td>\n",
              "      <td>0.0</td>\n",
              "    </tr>\n",
              "    <tr>\n",
              "      <th>...</th>\n",
              "      <td>...</td>\n",
              "      <td>...</td>\n",
              "      <td>...</td>\n",
              "      <td>...</td>\n",
              "      <td>...</td>\n",
              "      <td>...</td>\n",
              "      <td>...</td>\n",
              "      <td>...</td>\n",
              "    </tr>\n",
              "    <tr>\n",
              "      <th>449</th>\n",
              "      <td>2021-05-25</td>\n",
              "      <td>Indonesia</td>\n",
              "      <td>1786187.0</td>\n",
              "      <td>49627.0</td>\n",
              "      <td>1642074.0</td>\n",
              "      <td>5060.0</td>\n",
              "      <td>172.0</td>\n",
              "      <td>3795.0</td>\n",
              "    </tr>\n",
              "    <tr>\n",
              "      <th>450</th>\n",
              "      <td>2021-05-26</td>\n",
              "      <td>Indonesia</td>\n",
              "      <td>1791221.0</td>\n",
              "      <td>49771.0</td>\n",
              "      <td>1645263.0</td>\n",
              "      <td>5034.0</td>\n",
              "      <td>144.0</td>\n",
              "      <td>3189.0</td>\n",
              "    </tr>\n",
              "    <tr>\n",
              "      <th>451</th>\n",
              "      <td>2021-05-27</td>\n",
              "      <td>Indonesia</td>\n",
              "      <td>1797499.0</td>\n",
              "      <td>49907.0</td>\n",
              "      <td>1649187.0</td>\n",
              "      <td>6278.0</td>\n",
              "      <td>136.0</td>\n",
              "      <td>3924.0</td>\n",
              "    </tr>\n",
              "    <tr>\n",
              "      <th>452</th>\n",
              "      <td>2021-05-28</td>\n",
              "      <td>Indonesia</td>\n",
              "      <td>1803361.0</td>\n",
              "      <td>50100.0</td>\n",
              "      <td>1654557.0</td>\n",
              "      <td>5862.0</td>\n",
              "      <td>193.0</td>\n",
              "      <td>5370.0</td>\n",
              "    </tr>\n",
              "    <tr>\n",
              "      <th>453</th>\n",
              "      <td>2021-05-29</td>\n",
              "      <td>Indonesia</td>\n",
              "      <td>1809926.0</td>\n",
              "      <td>50262.0</td>\n",
              "      <td>1659974.0</td>\n",
              "      <td>6565.0</td>\n",
              "      <td>162.0</td>\n",
              "      <td>5417.0</td>\n",
              "    </tr>\n",
              "  </tbody>\n",
              "</table>\n",
              "<p>454 rows × 8 columns</p>\n",
              "</div>"
            ],
            "text/plain": [
              "    ObservationDate Country/Region  ...  Daily Deaths  Daily Recovered\n",
              "0        2020-03-02      Indonesia  ...           0.0              0.0\n",
              "1        2020-03-03      Indonesia  ...           0.0              0.0\n",
              "2        2020-03-04      Indonesia  ...           0.0              0.0\n",
              "3        2020-03-05      Indonesia  ...           0.0              0.0\n",
              "4        2020-03-06      Indonesia  ...           0.0              0.0\n",
              "..              ...            ...  ...           ...              ...\n",
              "449      2021-05-25      Indonesia  ...         172.0           3795.0\n",
              "450      2021-05-26      Indonesia  ...         144.0           3189.0\n",
              "451      2021-05-27      Indonesia  ...         136.0           3924.0\n",
              "452      2021-05-28      Indonesia  ...         193.0           5370.0\n",
              "453      2021-05-29      Indonesia  ...         162.0           5417.0\n",
              "\n",
              "[454 rows x 8 columns]"
            ]
          },
          "metadata": {
            "tags": []
          },
          "execution_count": 46
        }
      ]
    },
    {
      "cell_type": "code",
      "metadata": {
        "id": "vZy3qRNuuJIP"
      },
      "source": [
        "data_jkt.to_csv('Data Jakarta per 29 Mei 2021.csv')\n",
        "data_jkt.to_excel('Data Jakarta per 29 Mei 2021.xlsx')"
      ],
      "execution_count": 47,
      "outputs": []
    },
    {
      "cell_type": "code",
      "metadata": {
        "colab": {
          "base_uri": "https://localhost:8080/",
          "height": 414
        },
        "id": "YfIbQohpBqz7",
        "outputId": "0236c931-3a0d-43a5-bd6b-993e7db8a336"
      },
      "source": [
        "import matplotlib.pyplot as plt\n",
        "from matplotlib.dates import MonthLocator, DateFormatter\n",
        "fig, ax = plt.subplots()\n",
        "fig.set_size_inches(20, 6)\n",
        "\n",
        "ax.plot(data_jkt['ObservationDate'], data_jkt['Confirmed'], color='blue', label='Jumlah Kasus Positif')\n",
        "ax.plot(data_jkt['ObservationDate'], data_jkt['Deaths'], color='red', label='Jumlah Kasus Kematian')\n",
        "ax.plot(data_jkt['ObservationDate'], data_jkt['Recovered'], color='green', label='Jumlah Kasus Sembuh')\n",
        "ax.set_xlabel('Waktu', fontsize=15)\n",
        "ax.xaxis.set_major_locator(MonthLocator())\n",
        "ax.xaxis.set_major_formatter(DateFormatter('%Y-%m'))\n",
        "ax.set_ylabel('Jumlah Kasus (Juta)', fontsize=15)\n",
        "ax.set_title('Akumulasi Kasus COVID-19 di Indonesia 2 Maret 2020 s/d 29 Mei 2021', fontsize=20)\n",
        "ax.legend()\n",
        "\n",
        "plt.show()"
      ],
      "execution_count": 97,
      "outputs": [
        {
          "output_type": "display_data",
          "data": {
            "image/png": "[encoded data removed]",
            "text/plain": [
              "<Figure size 1440x432 with 1 Axes>"
            ]
          },
          "metadata": {
            "tags": [],
            "needs_background": "light"
          }
        }
      ]
    },
    {
      "cell_type": "code",
      "metadata": {
        "colab": {
          "base_uri": "https://localhost:8080/",
          "height": 409
        },
        "id": "dHDmYV0LwM49",
        "outputId": "e19c1d88-71ab-493c-cdc5-4afb5318055c"
      },
      "source": [
        "fig = plt.figure(figsize=(20,6))\n",
        "\n",
        "plt.plot(data_jkt['ObservationDate'], data_jkt['Daily Confirmed'], color='blue', label='Daily Confirmed')\n",
        "plt.plot(data_jkt['ObservationDate'], data_jkt['Daily Deaths'], color='red', label='Daily Deaths')\n",
        "plt.plot(data_jkt['ObservationDate'], data_jkt['Daily Recovered'], color='green', label='Daily Recovered')\n",
        "plt.xlabel('Date')\n",
        "plt.ylabel('Total')\n",
        "# plt.xticks(rotation='90')\n",
        "plt.title('Total Harian Kasus COVID-19 di Indonesia 2 Maret 2020 s/d 29 Mei 2021', fontsize=20)\n",
        "plt.legend()\n",
        "\n",
        "plt.show()"
      ],
      "execution_count": 96,
      "outputs": [
        {
          "output_type": "display_data",
          "data": {
            "image/png": "[encoded data removed]",
            "text/plain": [
              "<Figure size 1440x432 with 1 Axes>"
            ]
          },
          "metadata": {
            "tags": [],
            "needs_background": "light"
          }
        }
      ]
    },
    {
      "cell_type": "code",
      "metadata": {
        "colab": {
          "base_uri": "https://localhost:8080/",
          "height": 409
        },
        "id": "prueV6u43uEf",
        "outputId": "6f4f1c58-5344-4038-d37a-fb793d21eb39"
      },
      "source": [
        "from matplotlib.dates import MonthLocator, DateFormatter\n",
        "\n",
        "fig, ax = plt.subplots()\n",
        "fig.set_size_inches(20, 6)\n",
        "\n",
        "ax.plot(data_jkt['ObservationDate'], data_jkt['Daily Confirmed'], color='blue', label='Jumlah Kasus Positif Harian')\n",
        "ax.plot(data_jkt['ObservationDate'], data_jkt['Daily Deaths'], color='red', label='Jumlah Kasus Kematian Harian')\n",
        "ax.plot(data_jkt['ObservationDate'], data_jkt['Daily Recovered'], color='green', label='Jumlah Kasus Sembuh Harian')\n",
        "ax.set_xlabel('Waktu', fontsize=15)\n",
        "ax.xaxis.set_major_locator(MonthLocator())\n",
        "ax.xaxis.set_major_formatter(DateFormatter('%Y-%m'))\n",
        "ax.set_ylabel('Jumlah Kasus Harian', fontsize=15)\n",
        "ax.set_title('Jumlah Kasus Harian di Indonesia per tanggal 29 Mei 2021')\n",
        "ax.legend()\n",
        "\n",
        "plt.show()"
      ],
      "execution_count": 99,
      "outputs": [
        {
          "output_type": "display_data",
          "data": {
            "image/png": "[encoded data removed]",
            "text/plain": [
              "<Figure size 1440x432 with 1 Axes>"
            ]
          },
          "metadata": {
            "tags": [],
            "needs_background": "light"
          }
        }
      ]
    },
    {
      "cell_type": "code",
      "metadata": {
        "colab": {
          "base_uri": "https://localhost:8080/",
          "height": 419
        },
        "id": "vOxfUEnCCcbl",
        "outputId": "75ad2691-50fc-42c1-e2d1-36f0e108a00b"
      },
      "source": [
        "data"
      ],
      "execution_count": 51,
      "outputs": [
        {
          "output_type": "execute_result",
          "data": {
            "text/html": [
              "<div>\n",
              "<style scoped>\n",
              "    .dataframe tbody tr th:only-of-type {\n",
              "        vertical-align: middle;\n",
              "    }\n",
              "\n",
              "    .dataframe tbody tr th {\n",
              "        vertical-align: top;\n",
              "    }\n",
              "\n",
              "    .dataframe thead th {\n",
              "        text-align: right;\n",
              "    }\n",
              "</style>\n",
              "<table border=\"1\" class=\"dataframe\">\n",
              "  <thead>\n",
              "    <tr style=\"text-align: right;\">\n",
              "      <th></th>\n",
              "      <th>SNo</th>\n",
              "      <th>ObservationDate</th>\n",
              "      <th>Province/State</th>\n",
              "      <th>Country/Region</th>\n",
              "      <th>Last Update</th>\n",
              "      <th>Confirmed</th>\n",
              "      <th>Deaths</th>\n",
              "      <th>Recovered</th>\n",
              "    </tr>\n",
              "  </thead>\n",
              "  <tbody>\n",
              "    <tr>\n",
              "      <th>0</th>\n",
              "      <td>1</td>\n",
              "      <td>01/22/2020</td>\n",
              "      <td>Anhui</td>\n",
              "      <td>Mainland China</td>\n",
              "      <td>1/22/2020 17:00</td>\n",
              "      <td>1.0</td>\n",
              "      <td>0.0</td>\n",
              "      <td>0.0</td>\n",
              "    </tr>\n",
              "    <tr>\n",
              "      <th>1</th>\n",
              "      <td>2</td>\n",
              "      <td>01/22/2020</td>\n",
              "      <td>Beijing</td>\n",
              "      <td>Mainland China</td>\n",
              "      <td>1/22/2020 17:00</td>\n",
              "      <td>14.0</td>\n",
              "      <td>0.0</td>\n",
              "      <td>0.0</td>\n",
              "    </tr>\n",
              "    <tr>\n",
              "      <th>2</th>\n",
              "      <td>3</td>\n",
              "      <td>01/22/2020</td>\n",
              "      <td>Chongqing</td>\n",
              "      <td>Mainland China</td>\n",
              "      <td>1/22/2020 17:00</td>\n",
              "      <td>6.0</td>\n",
              "      <td>0.0</td>\n",
              "      <td>0.0</td>\n",
              "    </tr>\n",
              "    <tr>\n",
              "      <th>3</th>\n",
              "      <td>4</td>\n",
              "      <td>01/22/2020</td>\n",
              "      <td>Fujian</td>\n",
              "      <td>Mainland China</td>\n",
              "      <td>1/22/2020 17:00</td>\n",
              "      <td>1.0</td>\n",
              "      <td>0.0</td>\n",
              "      <td>0.0</td>\n",
              "    </tr>\n",
              "    <tr>\n",
              "      <th>4</th>\n",
              "      <td>5</td>\n",
              "      <td>01/22/2020</td>\n",
              "      <td>Gansu</td>\n",
              "      <td>Mainland China</td>\n",
              "      <td>1/22/2020 17:00</td>\n",
              "      <td>0.0</td>\n",
              "      <td>0.0</td>\n",
              "      <td>0.0</td>\n",
              "    </tr>\n",
              "    <tr>\n",
              "      <th>...</th>\n",
              "      <td>...</td>\n",
              "      <td>...</td>\n",
              "      <td>...</td>\n",
              "      <td>...</td>\n",
              "      <td>...</td>\n",
              "      <td>...</td>\n",
              "      <td>...</td>\n",
              "      <td>...</td>\n",
              "    </tr>\n",
              "    <tr>\n",
              "      <th>306424</th>\n",
              "      <td>306425</td>\n",
              "      <td>05/29/2021</td>\n",
              "      <td>Zaporizhia Oblast</td>\n",
              "      <td>Ukraine</td>\n",
              "      <td>2021-05-30 04:20:55</td>\n",
              "      <td>102641.0</td>\n",
              "      <td>2335.0</td>\n",
              "      <td>95289.0</td>\n",
              "    </tr>\n",
              "    <tr>\n",
              "      <th>306425</th>\n",
              "      <td>306426</td>\n",
              "      <td>05/29/2021</td>\n",
              "      <td>Zeeland</td>\n",
              "      <td>Netherlands</td>\n",
              "      <td>2021-05-30 04:20:55</td>\n",
              "      <td>29147.0</td>\n",
              "      <td>245.0</td>\n",
              "      <td>0.0</td>\n",
              "    </tr>\n",
              "    <tr>\n",
              "      <th>306426</th>\n",
              "      <td>306427</td>\n",
              "      <td>05/29/2021</td>\n",
              "      <td>Zhejiang</td>\n",
              "      <td>Mainland China</td>\n",
              "      <td>2021-05-30 04:20:55</td>\n",
              "      <td>1364.0</td>\n",
              "      <td>1.0</td>\n",
              "      <td>1324.0</td>\n",
              "    </tr>\n",
              "    <tr>\n",
              "      <th>306427</th>\n",
              "      <td>306428</td>\n",
              "      <td>05/29/2021</td>\n",
              "      <td>Zhytomyr Oblast</td>\n",
              "      <td>Ukraine</td>\n",
              "      <td>2021-05-30 04:20:55</td>\n",
              "      <td>87550.0</td>\n",
              "      <td>1738.0</td>\n",
              "      <td>83790.0</td>\n",
              "    </tr>\n",
              "    <tr>\n",
              "      <th>306428</th>\n",
              "      <td>306429</td>\n",
              "      <td>05/29/2021</td>\n",
              "      <td>Zuid-Holland</td>\n",
              "      <td>Netherlands</td>\n",
              "      <td>2021-05-30 04:20:55</td>\n",
              "      <td>391559.0</td>\n",
              "      <td>4252.0</td>\n",
              "      <td>0.0</td>\n",
              "    </tr>\n",
              "  </tbody>\n",
              "</table>\n",
              "<p>306429 rows × 8 columns</p>\n",
              "</div>"
            ],
            "text/plain": [
              "           SNo ObservationDate     Province/State  ... Confirmed  Deaths  Recovered\n",
              "0            1      01/22/2020              Anhui  ...       1.0     0.0        0.0\n",
              "1            2      01/22/2020            Beijing  ...      14.0     0.0        0.0\n",
              "2            3      01/22/2020          Chongqing  ...       6.0     0.0        0.0\n",
              "3            4      01/22/2020             Fujian  ...       1.0     0.0        0.0\n",
              "4            5      01/22/2020              Gansu  ...       0.0     0.0        0.0\n",
              "...        ...             ...                ...  ...       ...     ...        ...\n",
              "306424  306425      05/29/2021  Zaporizhia Oblast  ...  102641.0  2335.0    95289.0\n",
              "306425  306426      05/29/2021            Zeeland  ...   29147.0   245.0        0.0\n",
              "306426  306427      05/29/2021           Zhejiang  ...    1364.0     1.0     1324.0\n",
              "306427  306428      05/29/2021    Zhytomyr Oblast  ...   87550.0  1738.0    83790.0\n",
              "306428  306429      05/29/2021       Zuid-Holland  ...  391559.0  4252.0        0.0\n",
              "\n",
              "[306429 rows x 8 columns]"
            ]
          },
          "metadata": {
            "tags": []
          },
          "execution_count": 51
        }
      ]
    },
    {
      "cell_type": "code",
      "metadata": {
        "colab": {
          "base_uri": "https://localhost:8080/"
        },
        "id": "Db-uA8P9nqg2",
        "outputId": "54408fa9-b549-4acc-9ac5-10a25a22099e"
      },
      "source": [
        "group_country = data[data['ObservationDate']=='05/29/2021'].groupby('Country/Region')['Confirmed', 'Deaths', 'Recovered'].sum()"
      ],
      "execution_count": 52,
      "outputs": [
        {
          "output_type": "stream",
          "text": [
            "/usr/local/lib/python3.7/dist-packages/ipykernel_launcher.py:1: FutureWarning: Indexing with multiple keys (implicitly converted to a tuple of keys) will be deprecated, use a list instead.\n",
            "  \"\"\"Entry point for launching an IPython kernel.\n"
          ],
          "name": "stderr"
        }
      ]
    },
    {
      "cell_type": "code",
      "metadata": {
        "id": "z6Du7iKeoi_r"
      },
      "source": [
        "group_country = group_country.reset_index()"
      ],
      "execution_count": 53,
      "outputs": []
    },
    {
      "cell_type": "code",
      "metadata": {
        "colab": {
          "base_uri": "https://localhost:8080/",
          "height": 419
        },
        "id": "t4z4Bc17p-wr",
        "outputId": "87ca5641-c802-4681-f7b9-52c7e97e23ca"
      },
      "source": [
        "group_country"
      ],
      "execution_count": 54,
      "outputs": [
        {
          "output_type": "execute_result",
          "data": {
            "text/html": [
              "<div>\n",
              "<style scoped>\n",
              "    .dataframe tbody tr th:only-of-type {\n",
              "        vertical-align: middle;\n",
              "    }\n",
              "\n",
              "    .dataframe tbody tr th {\n",
              "        vertical-align: top;\n",
              "    }\n",
              "\n",
              "    .dataframe thead th {\n",
              "        text-align: right;\n",
              "    }\n",
              "</style>\n",
              "<table border=\"1\" class=\"dataframe\">\n",
              "  <thead>\n",
              "    <tr style=\"text-align: right;\">\n",
              "      <th></th>\n",
              "      <th>Country/Region</th>\n",
              "      <th>Confirmed</th>\n",
              "      <th>Deaths</th>\n",
              "      <th>Recovered</th>\n",
              "    </tr>\n",
              "  </thead>\n",
              "  <tbody>\n",
              "    <tr>\n",
              "      <th>0</th>\n",
              "      <td>Afghanistan</td>\n",
              "      <td>70111.0</td>\n",
              "      <td>2899.0</td>\n",
              "      <td>57281.0</td>\n",
              "    </tr>\n",
              "    <tr>\n",
              "      <th>1</th>\n",
              "      <td>Albania</td>\n",
              "      <td>132297.0</td>\n",
              "      <td>2449.0</td>\n",
              "      <td>129215.0</td>\n",
              "    </tr>\n",
              "    <tr>\n",
              "      <th>2</th>\n",
              "      <td>Algeria</td>\n",
              "      <td>128456.0</td>\n",
              "      <td>3460.0</td>\n",
              "      <td>89419.0</td>\n",
              "    </tr>\n",
              "    <tr>\n",
              "      <th>3</th>\n",
              "      <td>Andorra</td>\n",
              "      <td>13693.0</td>\n",
              "      <td>127.0</td>\n",
              "      <td>13416.0</td>\n",
              "    </tr>\n",
              "    <tr>\n",
              "      <th>4</th>\n",
              "      <td>Angola</td>\n",
              "      <td>34180.0</td>\n",
              "      <td>757.0</td>\n",
              "      <td>27646.0</td>\n",
              "    </tr>\n",
              "    <tr>\n",
              "      <th>...</th>\n",
              "      <td>...</td>\n",
              "      <td>...</td>\n",
              "      <td>...</td>\n",
              "      <td>...</td>\n",
              "    </tr>\n",
              "    <tr>\n",
              "      <th>190</th>\n",
              "      <td>Vietnam</td>\n",
              "      <td>6908.0</td>\n",
              "      <td>47.0</td>\n",
              "      <td>2896.0</td>\n",
              "    </tr>\n",
              "    <tr>\n",
              "      <th>191</th>\n",
              "      <td>West Bank and Gaza</td>\n",
              "      <td>307838.0</td>\n",
              "      <td>3492.0</td>\n",
              "      <td>300524.0</td>\n",
              "    </tr>\n",
              "    <tr>\n",
              "      <th>192</th>\n",
              "      <td>Yemen</td>\n",
              "      <td>6731.0</td>\n",
              "      <td>1319.0</td>\n",
              "      <td>3399.0</td>\n",
              "    </tr>\n",
              "    <tr>\n",
              "      <th>193</th>\n",
              "      <td>Zambia</td>\n",
              "      <td>94751.0</td>\n",
              "      <td>1276.0</td>\n",
              "      <td>91594.0</td>\n",
              "    </tr>\n",
              "    <tr>\n",
              "      <th>194</th>\n",
              "      <td>Zimbabwe</td>\n",
              "      <td>38933.0</td>\n",
              "      <td>1594.0</td>\n",
              "      <td>36578.0</td>\n",
              "    </tr>\n",
              "  </tbody>\n",
              "</table>\n",
              "<p>195 rows × 4 columns</p>\n",
              "</div>"
            ],
            "text/plain": [
              "         Country/Region  Confirmed  Deaths  Recovered\n",
              "0           Afghanistan    70111.0  2899.0    57281.0\n",
              "1               Albania   132297.0  2449.0   129215.0\n",
              "2               Algeria   128456.0  3460.0    89419.0\n",
              "3               Andorra    13693.0   127.0    13416.0\n",
              "4                Angola    34180.0   757.0    27646.0\n",
              "..                  ...        ...     ...        ...\n",
              "190             Vietnam     6908.0    47.0     2896.0\n",
              "191  West Bank and Gaza   307838.0  3492.0   300524.0\n",
              "192               Yemen     6731.0  1319.0     3399.0\n",
              "193              Zambia    94751.0  1276.0    91594.0\n",
              "194            Zimbabwe    38933.0  1594.0    36578.0\n",
              "\n",
              "[195 rows x 4 columns]"
            ]
          },
          "metadata": {
            "tags": []
          },
          "execution_count": 54
        }
      ]
    },
    {
      "cell_type": "code",
      "metadata": {
        "id": "AGyFTqPe1txe"
      },
      "source": [
        "group_country['Death Rate'] = group_country['Deaths']/group_country['Confirmed']\n",
        "group_country['Recovered Rate'] = group_country['Recovered']/group_country['Confirmed']"
      ],
      "execution_count": 55,
      "outputs": []
    },
    {
      "cell_type": "code",
      "metadata": {
        "colab": {
          "base_uri": "https://localhost:8080/",
          "height": 419
        },
        "id": "1ERVHrnk0ldp",
        "outputId": "e0c56e85-317c-46ff-b53b-826418382c64"
      },
      "source": [
        "group_country"
      ],
      "execution_count": 57,
      "outputs": [
        {
          "output_type": "execute_result",
          "data": {
            "text/html": [
              "<div>\n",
              "<style scoped>\n",
              "    .dataframe tbody tr th:only-of-type {\n",
              "        vertical-align: middle;\n",
              "    }\n",
              "\n",
              "    .dataframe tbody tr th {\n",
              "        vertical-align: top;\n",
              "    }\n",
              "\n",
              "    .dataframe thead th {\n",
              "        text-align: right;\n",
              "    }\n",
              "</style>\n",
              "<table border=\"1\" class=\"dataframe\">\n",
              "  <thead>\n",
              "    <tr style=\"text-align: right;\">\n",
              "      <th></th>\n",
              "      <th>Country/Region</th>\n",
              "      <th>Confirmed</th>\n",
              "      <th>Deaths</th>\n",
              "      <th>Recovered</th>\n",
              "      <th>Death Rate</th>\n",
              "      <th>Recovered Rate</th>\n",
              "    </tr>\n",
              "  </thead>\n",
              "  <tbody>\n",
              "    <tr>\n",
              "      <th>0</th>\n",
              "      <td>Afghanistan</td>\n",
              "      <td>70111.0</td>\n",
              "      <td>2899.0</td>\n",
              "      <td>57281.0</td>\n",
              "      <td>0.041349</td>\n",
              "      <td>0.817004</td>\n",
              "    </tr>\n",
              "    <tr>\n",
              "      <th>1</th>\n",
              "      <td>Albania</td>\n",
              "      <td>132297.0</td>\n",
              "      <td>2449.0</td>\n",
              "      <td>129215.0</td>\n",
              "      <td>0.018511</td>\n",
              "      <td>0.976704</td>\n",
              "    </tr>\n",
              "    <tr>\n",
              "      <th>2</th>\n",
              "      <td>Algeria</td>\n",
              "      <td>128456.0</td>\n",
              "      <td>3460.0</td>\n",
              "      <td>89419.0</td>\n",
              "      <td>0.026935</td>\n",
              "      <td>0.696106</td>\n",
              "    </tr>\n",
              "    <tr>\n",
              "      <th>3</th>\n",
              "      <td>Andorra</td>\n",
              "      <td>13693.0</td>\n",
              "      <td>127.0</td>\n",
              "      <td>13416.0</td>\n",
              "      <td>0.009275</td>\n",
              "      <td>0.979771</td>\n",
              "    </tr>\n",
              "    <tr>\n",
              "      <th>4</th>\n",
              "      <td>Angola</td>\n",
              "      <td>34180.0</td>\n",
              "      <td>757.0</td>\n",
              "      <td>27646.0</td>\n",
              "      <td>0.022147</td>\n",
              "      <td>0.808836</td>\n",
              "    </tr>\n",
              "    <tr>\n",
              "      <th>...</th>\n",
              "      <td>...</td>\n",
              "      <td>...</td>\n",
              "      <td>...</td>\n",
              "      <td>...</td>\n",
              "      <td>...</td>\n",
              "      <td>...</td>\n",
              "    </tr>\n",
              "    <tr>\n",
              "      <th>190</th>\n",
              "      <td>Vietnam</td>\n",
              "      <td>6908.0</td>\n",
              "      <td>47.0</td>\n",
              "      <td>2896.0</td>\n",
              "      <td>0.006804</td>\n",
              "      <td>0.419224</td>\n",
              "    </tr>\n",
              "    <tr>\n",
              "      <th>191</th>\n",
              "      <td>West Bank and Gaza</td>\n",
              "      <td>307838.0</td>\n",
              "      <td>3492.0</td>\n",
              "      <td>300524.0</td>\n",
              "      <td>0.011344</td>\n",
              "      <td>0.976241</td>\n",
              "    </tr>\n",
              "    <tr>\n",
              "      <th>192</th>\n",
              "      <td>Yemen</td>\n",
              "      <td>6731.0</td>\n",
              "      <td>1319.0</td>\n",
              "      <td>3399.0</td>\n",
              "      <td>0.195959</td>\n",
              "      <td>0.504977</td>\n",
              "    </tr>\n",
              "    <tr>\n",
              "      <th>193</th>\n",
              "      <td>Zambia</td>\n",
              "      <td>94751.0</td>\n",
              "      <td>1276.0</td>\n",
              "      <td>91594.0</td>\n",
              "      <td>0.013467</td>\n",
              "      <td>0.966681</td>\n",
              "    </tr>\n",
              "    <tr>\n",
              "      <th>194</th>\n",
              "      <td>Zimbabwe</td>\n",
              "      <td>38933.0</td>\n",
              "      <td>1594.0</td>\n",
              "      <td>36578.0</td>\n",
              "      <td>0.040942</td>\n",
              "      <td>0.939511</td>\n",
              "    </tr>\n",
              "  </tbody>\n",
              "</table>\n",
              "<p>195 rows × 6 columns</p>\n",
              "</div>"
            ],
            "text/plain": [
              "         Country/Region  Confirmed  ...  Death Rate  Recovered Rate\n",
              "0           Afghanistan    70111.0  ...    0.041349        0.817004\n",
              "1               Albania   132297.0  ...    0.018511        0.976704\n",
              "2               Algeria   128456.0  ...    0.026935        0.696106\n",
              "3               Andorra    13693.0  ...    0.009275        0.979771\n",
              "4                Angola    34180.0  ...    0.022147        0.808836\n",
              "..                  ...        ...  ...         ...             ...\n",
              "190             Vietnam     6908.0  ...    0.006804        0.419224\n",
              "191  West Bank and Gaza   307838.0  ...    0.011344        0.976241\n",
              "192               Yemen     6731.0  ...    0.195959        0.504977\n",
              "193              Zambia    94751.0  ...    0.013467        0.966681\n",
              "194            Zimbabwe    38933.0  ...    0.040942        0.939511\n",
              "\n",
              "[195 rows x 6 columns]"
            ]
          },
          "metadata": {
            "tags": []
          },
          "execution_count": 57
        }
      ]
    },
    {
      "cell_type": "code",
      "metadata": {
        "colab": {
          "base_uri": "https://localhost:8080/",
          "height": 359
        },
        "id": "fMP2kivK1WTZ",
        "outputId": "ed9a42a2-0132-4cea-9b0a-6bdc267f65cc"
      },
      "source": [
        "top10_country_pos = group_country.sort_values('Confirmed', ascending=False).head(10)\n",
        "top10_country_pos"
      ],
      "execution_count": 69,
      "outputs": [
        {
          "output_type": "execute_result",
          "data": {
            "text/html": [
              "<div>\n",
              "<style scoped>\n",
              "    .dataframe tbody tr th:only-of-type {\n",
              "        vertical-align: middle;\n",
              "    }\n",
              "\n",
              "    .dataframe tbody tr th {\n",
              "        vertical-align: top;\n",
              "    }\n",
              "\n",
              "    .dataframe thead th {\n",
              "        text-align: right;\n",
              "    }\n",
              "</style>\n",
              "<table border=\"1\" class=\"dataframe\">\n",
              "  <thead>\n",
              "    <tr style=\"text-align: right;\">\n",
              "      <th></th>\n",
              "      <th>Country/Region</th>\n",
              "      <th>Confirmed</th>\n",
              "      <th>Deaths</th>\n",
              "      <th>Recovered</th>\n",
              "      <th>Death Rate</th>\n",
              "      <th>Recovered Rate</th>\n",
              "    </tr>\n",
              "  </thead>\n",
              "  <tbody>\n",
              "    <tr>\n",
              "      <th>182</th>\n",
              "      <td>US</td>\n",
              "      <td>33251939.0</td>\n",
              "      <td>594306.0</td>\n",
              "      <td>0.0</td>\n",
              "      <td>0.017873</td>\n",
              "      <td>0.000000</td>\n",
              "    </tr>\n",
              "    <tr>\n",
              "      <th>78</th>\n",
              "      <td>India</td>\n",
              "      <td>27894800.0</td>\n",
              "      <td>325972.0</td>\n",
              "      <td>25454320.0</td>\n",
              "      <td>0.011686</td>\n",
              "      <td>0.912511</td>\n",
              "    </tr>\n",
              "    <tr>\n",
              "      <th>23</th>\n",
              "      <td>Brazil</td>\n",
              "      <td>16471600.0</td>\n",
              "      <td>461057.0</td>\n",
              "      <td>14496224.0</td>\n",
              "      <td>0.027991</td>\n",
              "      <td>0.880074</td>\n",
              "    </tr>\n",
              "    <tr>\n",
              "      <th>60</th>\n",
              "      <td>France</td>\n",
              "      <td>5719877.0</td>\n",
              "      <td>109518.0</td>\n",
              "      <td>390878.0</td>\n",
              "      <td>0.019147</td>\n",
              "      <td>0.068337</td>\n",
              "    </tr>\n",
              "    <tr>\n",
              "      <th>180</th>\n",
              "      <td>Turkey</td>\n",
              "      <td>5235978.0</td>\n",
              "      <td>47271.0</td>\n",
              "      <td>5094279.0</td>\n",
              "      <td>0.009028</td>\n",
              "      <td>0.972937</td>\n",
              "    </tr>\n",
              "    <tr>\n",
              "      <th>144</th>\n",
              "      <td>Russia</td>\n",
              "      <td>4995613.0</td>\n",
              "      <td>118781.0</td>\n",
              "      <td>4616422.0</td>\n",
              "      <td>0.023777</td>\n",
              "      <td>0.924095</td>\n",
              "    </tr>\n",
              "    <tr>\n",
              "      <th>181</th>\n",
              "      <td>UK</td>\n",
              "      <td>4496823.0</td>\n",
              "      <td>128037.0</td>\n",
              "      <td>15481.0</td>\n",
              "      <td>0.028473</td>\n",
              "      <td>0.003443</td>\n",
              "    </tr>\n",
              "    <tr>\n",
              "      <th>84</th>\n",
              "      <td>Italy</td>\n",
              "      <td>4213055.0</td>\n",
              "      <td>126002.0</td>\n",
              "      <td>3845087.0</td>\n",
              "      <td>0.029908</td>\n",
              "      <td>0.912660</td>\n",
              "    </tr>\n",
              "    <tr>\n",
              "      <th>6</th>\n",
              "      <td>Argentina</td>\n",
              "      <td>3732263.0</td>\n",
              "      <td>77108.0</td>\n",
              "      <td>3288467.0</td>\n",
              "      <td>0.020660</td>\n",
              "      <td>0.881092</td>\n",
              "    </tr>\n",
              "    <tr>\n",
              "      <th>64</th>\n",
              "      <td>Germany</td>\n",
              "      <td>3684672.0</td>\n",
              "      <td>88413.0</td>\n",
              "      <td>3479700.0</td>\n",
              "      <td>0.023995</td>\n",
              "      <td>0.944372</td>\n",
              "    </tr>\n",
              "  </tbody>\n",
              "</table>\n",
              "</div>"
            ],
            "text/plain": [
              "    Country/Region   Confirmed  ...  Death Rate  Recovered Rate\n",
              "182             US  33251939.0  ...    0.017873        0.000000\n",
              "78           India  27894800.0  ...    0.011686        0.912511\n",
              "23          Brazil  16471600.0  ...    0.027991        0.880074\n",
              "60          France   5719877.0  ...    0.019147        0.068337\n",
              "180         Turkey   5235978.0  ...    0.009028        0.972937\n",
              "144         Russia   4995613.0  ...    0.023777        0.924095\n",
              "181             UK   4496823.0  ...    0.028473        0.003443\n",
              "84           Italy   4213055.0  ...    0.029908        0.912660\n",
              "6        Argentina   3732263.0  ...    0.020660        0.881092\n",
              "64         Germany   3684672.0  ...    0.023995        0.944372\n",
              "\n",
              "[10 rows x 6 columns]"
            ]
          },
          "metadata": {
            "tags": []
          },
          "execution_count": 69
        }
      ]
    },
    {
      "cell_type": "code",
      "metadata": {
        "colab": {
          "base_uri": "https://localhost:8080/",
          "height": 627
        },
        "id": "pQd-FXHM18v6",
        "outputId": "cc3a76e9-fea0-49e6-b3b1-a0ec6c2b3b55"
      },
      "source": [
        "import seaborn as sns\n",
        "\n",
        "plt.figure(figsize=(10,10))\n",
        "sns.barplot(y = top10_country_pos['Country/Region'], x = top10_country_pos['Confirmed'])\n",
        "plt.xlim([0,40000000])\n",
        "plt.xlabel('Jumlah (Dalam Puluhan Juta)', fontsize=12)\n",
        "plt.ylabel('Negara', fontsize=12)\n",
        "plt.title('10 Negara Dengan Total Akumulasi Kasus Positif Tertinggi', fontsize=15)\n",
        "plt.grid()\n",
        "plt.show()"
      ],
      "execution_count": 114,
      "outputs": [
        {
          "output_type": "display_data",
          "data": {
            "image/png": "[encoded data removed]",
            "text/plain": [
              "<Figure size 720x720 with 1 Axes>"
            ]
          },
          "metadata": {
            "tags": [],
            "needs_background": "light"
          }
        }
      ]
    },
    {
      "cell_type": "code",
      "metadata": {
        "colab": {
          "base_uri": "https://localhost:8080/",
          "height": 359
        },
        "id": "Kd12KAD01pw3",
        "outputId": "e15f4e6a-e97c-4f40-e25d-d7e6355249f4"
      },
      "source": [
        "top10_country_death = group_country.sort_values('Deaths', ascending=False).head(10)\n",
        "top10_country_death"
      ],
      "execution_count": 100,
      "outputs": [
        {
          "output_type": "execute_result",
          "data": {
            "text/html": [
              "<div>\n",
              "<style scoped>\n",
              "    .dataframe tbody tr th:only-of-type {\n",
              "        vertical-align: middle;\n",
              "    }\n",
              "\n",
              "    .dataframe tbody tr th {\n",
              "        vertical-align: top;\n",
              "    }\n",
              "\n",
              "    .dataframe thead th {\n",
              "        text-align: right;\n",
              "    }\n",
              "</style>\n",
              "<table border=\"1\" class=\"dataframe\">\n",
              "  <thead>\n",
              "    <tr style=\"text-align: right;\">\n",
              "      <th></th>\n",
              "      <th>Country/Region</th>\n",
              "      <th>Confirmed</th>\n",
              "      <th>Deaths</th>\n",
              "      <th>Recovered</th>\n",
              "      <th>Death Rate</th>\n",
              "      <th>Recovered Rate</th>\n",
              "    </tr>\n",
              "  </thead>\n",
              "  <tbody>\n",
              "    <tr>\n",
              "      <th>182</th>\n",
              "      <td>US</td>\n",
              "      <td>33251939.0</td>\n",
              "      <td>594306.0</td>\n",
              "      <td>0.0</td>\n",
              "      <td>0.017873</td>\n",
              "      <td>0.000000</td>\n",
              "    </tr>\n",
              "    <tr>\n",
              "      <th>23</th>\n",
              "      <td>Brazil</td>\n",
              "      <td>16471600.0</td>\n",
              "      <td>461057.0</td>\n",
              "      <td>14496224.0</td>\n",
              "      <td>0.027991</td>\n",
              "      <td>0.880074</td>\n",
              "    </tr>\n",
              "    <tr>\n",
              "      <th>78</th>\n",
              "      <td>India</td>\n",
              "      <td>27894800.0</td>\n",
              "      <td>325972.0</td>\n",
              "      <td>25454320.0</td>\n",
              "      <td>0.011686</td>\n",
              "      <td>0.912511</td>\n",
              "    </tr>\n",
              "    <tr>\n",
              "      <th>116</th>\n",
              "      <td>Mexico</td>\n",
              "      <td>2411503.0</td>\n",
              "      <td>223455.0</td>\n",
              "      <td>1924865.0</td>\n",
              "      <td>0.092662</td>\n",
              "      <td>0.798201</td>\n",
              "    </tr>\n",
              "    <tr>\n",
              "      <th>181</th>\n",
              "      <td>UK</td>\n",
              "      <td>4496823.0</td>\n",
              "      <td>128037.0</td>\n",
              "      <td>15481.0</td>\n",
              "      <td>0.028473</td>\n",
              "      <td>0.003443</td>\n",
              "    </tr>\n",
              "    <tr>\n",
              "      <th>84</th>\n",
              "      <td>Italy</td>\n",
              "      <td>4213055.0</td>\n",
              "      <td>126002.0</td>\n",
              "      <td>3845087.0</td>\n",
              "      <td>0.029908</td>\n",
              "      <td>0.912660</td>\n",
              "    </tr>\n",
              "    <tr>\n",
              "      <th>144</th>\n",
              "      <td>Russia</td>\n",
              "      <td>4995613.0</td>\n",
              "      <td>118781.0</td>\n",
              "      <td>4616422.0</td>\n",
              "      <td>0.023777</td>\n",
              "      <td>0.924095</td>\n",
              "    </tr>\n",
              "    <tr>\n",
              "      <th>60</th>\n",
              "      <td>France</td>\n",
              "      <td>5719877.0</td>\n",
              "      <td>109518.0</td>\n",
              "      <td>390878.0</td>\n",
              "      <td>0.019147</td>\n",
              "      <td>0.068337</td>\n",
              "    </tr>\n",
              "    <tr>\n",
              "      <th>64</th>\n",
              "      <td>Germany</td>\n",
              "      <td>3684672.0</td>\n",
              "      <td>88413.0</td>\n",
              "      <td>3479700.0</td>\n",
              "      <td>0.023995</td>\n",
              "      <td>0.944372</td>\n",
              "    </tr>\n",
              "    <tr>\n",
              "      <th>36</th>\n",
              "      <td>Colombia</td>\n",
              "      <td>3363061.0</td>\n",
              "      <td>87747.0</td>\n",
              "      <td>3141549.0</td>\n",
              "      <td>0.026091</td>\n",
              "      <td>0.934134</td>\n",
              "    </tr>\n",
              "  </tbody>\n",
              "</table>\n",
              "</div>"
            ],
            "text/plain": [
              "    Country/Region   Confirmed  ...  Death Rate  Recovered Rate\n",
              "182             US  33251939.0  ...    0.017873        0.000000\n",
              "23          Brazil  16471600.0  ...    0.027991        0.880074\n",
              "78           India  27894800.0  ...    0.011686        0.912511\n",
              "116         Mexico   2411503.0  ...    0.092662        0.798201\n",
              "181             UK   4496823.0  ...    0.028473        0.003443\n",
              "84           Italy   4213055.0  ...    0.029908        0.912660\n",
              "144         Russia   4995613.0  ...    0.023777        0.924095\n",
              "60          France   5719877.0  ...    0.019147        0.068337\n",
              "64         Germany   3684672.0  ...    0.023995        0.944372\n",
              "36        Colombia   3363061.0  ...    0.026091        0.934134\n",
              "\n",
              "[10 rows x 6 columns]"
            ]
          },
          "metadata": {
            "tags": []
          },
          "execution_count": 100
        }
      ]
    },
    {
      "cell_type": "code",
      "metadata": {
        "colab": {
          "base_uri": "https://localhost:8080/",
          "height": 627
        },
        "id": "ScXojsiV7U6r",
        "outputId": "cc6c3f55-8976-41c8-aca6-442d92cc8b59"
      },
      "source": [
        "import seaborn as sns\n",
        "\n",
        "plt.figure(figsize=(10,10))\n",
        "sns.barplot(y = top10_country_death['Country/Region'], x = top10_country_death['Deaths'])\n",
        "plt.xlim([0,650000])\n",
        "plt.xlabel('Jumlah', fontsize=12)\n",
        "plt.ylabel('Negara', fontsize=12)\n",
        "plt.title('10 Negara Dengan Total Akumulasi Kasus Kematian Tertinggi', fontsize=15)\n",
        "plt.grid()\n",
        "plt.show()"
      ],
      "execution_count": 113,
      "outputs": [
        {
          "output_type": "display_data",
          "data": {
            "image/png": "[encoded data removed]",
            "text/plain": [
              "<Figure size 720x720 with 1 Axes>"
            ]
          },
          "metadata": {
            "tags": [],
            "needs_background": "light"
          }
        }
      ]
    },
    {
      "cell_type": "code",
      "metadata": {
        "colab": {
          "base_uri": "https://localhost:8080/",
          "height": 80
        },
        "id": "VmwB0J7Q8uID",
        "outputId": "5d059274-a82e-4ce3-9d89-6b72a8f14252"
      },
      "source": [
        "test = group_country.sort_values('Confirmed', ascending=False).reset_index()\n",
        "test[test['Country/Region']=='Indonesia']"
      ],
      "execution_count": 117,
      "outputs": [
        {
          "output_type": "execute_result",
          "data": {
            "text/html": [
              "<div>\n",
              "<style scoped>\n",
              "    .dataframe tbody tr th:only-of-type {\n",
              "        vertical-align: middle;\n",
              "    }\n",
              "\n",
              "    .dataframe tbody tr th {\n",
              "        vertical-align: top;\n",
              "    }\n",
              "\n",
              "    .dataframe thead th {\n",
              "        text-align: right;\n",
              "    }\n",
              "</style>\n",
              "<table border=\"1\" class=\"dataframe\">\n",
              "  <thead>\n",
              "    <tr style=\"text-align: right;\">\n",
              "      <th></th>\n",
              "      <th>index</th>\n",
              "      <th>Country/Region</th>\n",
              "      <th>Confirmed</th>\n",
              "      <th>Deaths</th>\n",
              "      <th>Recovered</th>\n",
              "      <th>Death Rate</th>\n",
              "      <th>Recovered Rate</th>\n",
              "    </tr>\n",
              "  </thead>\n",
              "  <tbody>\n",
              "    <tr>\n",
              "      <th>17</th>\n",
              "      <td>79</td>\n",
              "      <td>Indonesia</td>\n",
              "      <td>1809926.0</td>\n",
              "      <td>50262.0</td>\n",
              "      <td>1659974.0</td>\n",
              "      <td>0.02777</td>\n",
              "      <td>0.91715</td>\n",
              "    </tr>\n",
              "  </tbody>\n",
              "</table>\n",
              "</div>"
            ],
            "text/plain": [
              "    index Country/Region  Confirmed  ...  Recovered  Death Rate  Recovered Rate\n",
              "17     79      Indonesia  1809926.0  ...  1659974.0     0.02777         0.91715\n",
              "\n",
              "[1 rows x 7 columns]"
            ]
          },
          "metadata": {
            "tags": []
          },
          "execution_count": 117
        }
      ]
    },
    {
      "cell_type": "code",
      "metadata": {
        "colab": {
          "base_uri": "https://localhost:8080/",
          "height": 80
        },
        "id": "c4o3IxsY2z4n",
        "outputId": "dc6d1160-fd0e-4a98-8f6e-5f3e198f1107"
      },
      "source": [
        "group_country[group_country['Country/Region']=='Indonesia']"
      ],
      "execution_count": 56,
      "outputs": [
        {
          "output_type": "execute_result",
          "data": {
            "text/html": [
              "<div>\n",
              "<style scoped>\n",
              "    .dataframe tbody tr th:only-of-type {\n",
              "        vertical-align: middle;\n",
              "    }\n",
              "\n",
              "    .dataframe tbody tr th {\n",
              "        vertical-align: top;\n",
              "    }\n",
              "\n",
              "    .dataframe thead th {\n",
              "        text-align: right;\n",
              "    }\n",
              "</style>\n",
              "<table border=\"1\" class=\"dataframe\">\n",
              "  <thead>\n",
              "    <tr style=\"text-align: right;\">\n",
              "      <th></th>\n",
              "      <th>Country/Region</th>\n",
              "      <th>Confirmed</th>\n",
              "      <th>Deaths</th>\n",
              "      <th>Recovered</th>\n",
              "      <th>Death Rate</th>\n",
              "      <th>Recovered Rate</th>\n",
              "    </tr>\n",
              "  </thead>\n",
              "  <tbody>\n",
              "    <tr>\n",
              "      <th>79</th>\n",
              "      <td>Indonesia</td>\n",
              "      <td>1809926.0</td>\n",
              "      <td>50262.0</td>\n",
              "      <td>1659974.0</td>\n",
              "      <td>0.02777</td>\n",
              "      <td>0.91715</td>\n",
              "    </tr>\n",
              "  </tbody>\n",
              "</table>\n",
              "</div>"
            ],
            "text/plain": [
              "   Country/Region  Confirmed   Deaths  Recovered  Death Rate  Recovered Rate\n",
              "79      Indonesia  1809926.0  50262.0  1659974.0     0.02777         0.91715"
            ]
          },
          "metadata": {
            "tags": []
          },
          "execution_count": 56
        }
      ]
    },
    {
      "cell_type": "code",
      "metadata": {
        "colab": {
          "base_uri": "https://localhost:8080/",
          "height": 204
        },
        "id": "JXuNnvP418oN",
        "outputId": "1f471f18-8f2a-46a8-f9b4-bf9458ec7f55"
      },
      "source": [
        "group_country[group_country['Confirmed']>= 1809926].sort_values('Death Rate', ascending=False).head()"
      ],
      "execution_count": 58,
      "outputs": [
        {
          "output_type": "execute_result",
          "data": {
            "text/html": [
              "<div>\n",
              "<style scoped>\n",
              "    .dataframe tbody tr th:only-of-type {\n",
              "        vertical-align: middle;\n",
              "    }\n",
              "\n",
              "    .dataframe tbody tr th {\n",
              "        vertical-align: top;\n",
              "    }\n",
              "\n",
              "    .dataframe thead th {\n",
              "        text-align: right;\n",
              "    }\n",
              "</style>\n",
              "<table border=\"1\" class=\"dataframe\">\n",
              "  <thead>\n",
              "    <tr style=\"text-align: right;\">\n",
              "      <th></th>\n",
              "      <th>Country/Region</th>\n",
              "      <th>Confirmed</th>\n",
              "      <th>Deaths</th>\n",
              "      <th>Recovered</th>\n",
              "      <th>Death Rate</th>\n",
              "      <th>Recovered Rate</th>\n",
              "    </tr>\n",
              "  </thead>\n",
              "  <tbody>\n",
              "    <tr>\n",
              "      <th>116</th>\n",
              "      <td>Mexico</td>\n",
              "      <td>2411503.0</td>\n",
              "      <td>223455.0</td>\n",
              "      <td>1924865.0</td>\n",
              "      <td>0.092662</td>\n",
              "      <td>0.798201</td>\n",
              "    </tr>\n",
              "    <tr>\n",
              "      <th>138</th>\n",
              "      <td>Peru</td>\n",
              "      <td>1947555.0</td>\n",
              "      <td>68978.0</td>\n",
              "      <td>1897522.0</td>\n",
              "      <td>0.035418</td>\n",
              "      <td>0.974310</td>\n",
              "    </tr>\n",
              "    <tr>\n",
              "      <th>84</th>\n",
              "      <td>Italy</td>\n",
              "      <td>4213055.0</td>\n",
              "      <td>126002.0</td>\n",
              "      <td>3845087.0</td>\n",
              "      <td>0.029908</td>\n",
              "      <td>0.912660</td>\n",
              "    </tr>\n",
              "    <tr>\n",
              "      <th>181</th>\n",
              "      <td>UK</td>\n",
              "      <td>4496823.0</td>\n",
              "      <td>128037.0</td>\n",
              "      <td>15481.0</td>\n",
              "      <td>0.028473</td>\n",
              "      <td>0.003443</td>\n",
              "    </tr>\n",
              "    <tr>\n",
              "      <th>23</th>\n",
              "      <td>Brazil</td>\n",
              "      <td>16471600.0</td>\n",
              "      <td>461057.0</td>\n",
              "      <td>14496224.0</td>\n",
              "      <td>0.027991</td>\n",
              "      <td>0.880074</td>\n",
              "    </tr>\n",
              "  </tbody>\n",
              "</table>\n",
              "</div>"
            ],
            "text/plain": [
              "    Country/Region   Confirmed  ...  Death Rate  Recovered Rate\n",
              "116         Mexico   2411503.0  ...    0.092662        0.798201\n",
              "138           Peru   1947555.0  ...    0.035418        0.974310\n",
              "84           Italy   4213055.0  ...    0.029908        0.912660\n",
              "181             UK   4496823.0  ...    0.028473        0.003443\n",
              "23          Brazil  16471600.0  ...    0.027991        0.880074\n",
              "\n",
              "[5 rows x 6 columns]"
            ]
          },
          "metadata": {
            "tags": []
          },
          "execution_count": 58
        }
      ]
    },
    {
      "cell_type": "code",
      "metadata": {
        "colab": {
          "base_uri": "https://localhost:8080/",
          "height": 204
        },
        "id": "iZR_UI-y2QgM",
        "outputId": "90aeccc7-ffe8-46a8-fe3b-0360bdbc9d2c"
      },
      "source": [
        "group_country[group_country['Confirmed']>= 1809926].sort_values('Recovered Rate', ascending=False).head()"
      ],
      "execution_count": 59,
      "outputs": [
        {
          "output_type": "execute_result",
          "data": {
            "text/html": [
              "<div>\n",
              "<style scoped>\n",
              "    .dataframe tbody tr th:only-of-type {\n",
              "        vertical-align: middle;\n",
              "    }\n",
              "\n",
              "    .dataframe tbody tr th {\n",
              "        vertical-align: top;\n",
              "    }\n",
              "\n",
              "    .dataframe thead th {\n",
              "        text-align: right;\n",
              "    }\n",
              "</style>\n",
              "<table border=\"1\" class=\"dataframe\">\n",
              "  <thead>\n",
              "    <tr style=\"text-align: right;\">\n",
              "      <th></th>\n",
              "      <th>Country/Region</th>\n",
              "      <th>Confirmed</th>\n",
              "      <th>Deaths</th>\n",
              "      <th>Recovered</th>\n",
              "      <th>Death Rate</th>\n",
              "      <th>Recovered Rate</th>\n",
              "    </tr>\n",
              "  </thead>\n",
              "  <tbody>\n",
              "    <tr>\n",
              "      <th>138</th>\n",
              "      <td>Peru</td>\n",
              "      <td>1947555.0</td>\n",
              "      <td>68978.0</td>\n",
              "      <td>1897522.0</td>\n",
              "      <td>0.035418</td>\n",
              "      <td>0.974310</td>\n",
              "    </tr>\n",
              "    <tr>\n",
              "      <th>180</th>\n",
              "      <td>Turkey</td>\n",
              "      <td>5235978.0</td>\n",
              "      <td>47271.0</td>\n",
              "      <td>5094279.0</td>\n",
              "      <td>0.009028</td>\n",
              "      <td>0.972937</td>\n",
              "    </tr>\n",
              "    <tr>\n",
              "      <th>64</th>\n",
              "      <td>Germany</td>\n",
              "      <td>3684672.0</td>\n",
              "      <td>88413.0</td>\n",
              "      <td>3479700.0</td>\n",
              "      <td>0.023995</td>\n",
              "      <td>0.944372</td>\n",
              "    </tr>\n",
              "    <tr>\n",
              "      <th>36</th>\n",
              "      <td>Colombia</td>\n",
              "      <td>3363061.0</td>\n",
              "      <td>87747.0</td>\n",
              "      <td>3141549.0</td>\n",
              "      <td>0.026091</td>\n",
              "      <td>0.934134</td>\n",
              "    </tr>\n",
              "    <tr>\n",
              "      <th>144</th>\n",
              "      <td>Russia</td>\n",
              "      <td>4995613.0</td>\n",
              "      <td>118781.0</td>\n",
              "      <td>4616422.0</td>\n",
              "      <td>0.023777</td>\n",
              "      <td>0.924095</td>\n",
              "    </tr>\n",
              "  </tbody>\n",
              "</table>\n",
              "</div>"
            ],
            "text/plain": [
              "    Country/Region  Confirmed    Deaths  Recovered  Death Rate  Recovered Rate\n",
              "138           Peru  1947555.0   68978.0  1897522.0    0.035418        0.974310\n",
              "180         Turkey  5235978.0   47271.0  5094279.0    0.009028        0.972937\n",
              "64         Germany  3684672.0   88413.0  3479700.0    0.023995        0.944372\n",
              "36        Colombia  3363061.0   87747.0  3141549.0    0.026091        0.934134\n",
              "144         Russia  4995613.0  118781.0  4616422.0    0.023777        0.924095"
            ]
          },
          "metadata": {
            "tags": []
          },
          "execution_count": 59
        }
      ]
    },
    {
      "cell_type": "code",
      "metadata": {
        "colab": {
          "base_uri": "https://localhost:8080/"
        },
        "id": "8RpwMoUKpMTZ",
        "outputId": "24766272-7a28-460c-81ab-2ad6427c2b54"
      },
      "source": [
        "sum_confirm = group_country['Confirmed'].sum()\n",
        "sum_deaths = group_country['Deaths'].sum()\n",
        "sum_recovered = group_country['Recovered'].sum()\n",
        "\n",
        "print(sum_confirm)\n",
        "print(sum_deaths)\n",
        "print(sum_recovered)"
      ],
      "execution_count": 60,
      "outputs": [
        {
          "output_type": "stream",
          "text": [
            "169951560.0\n",
            "3533619.0\n",
            "107140669.0\n"
          ],
          "name": "stdout"
        }
      ]
    },
    {
      "cell_type": "code",
      "metadata": {
        "colab": {
          "base_uri": "https://localhost:8080/",
          "height": 276
        },
        "id": "8ZyOwea2pXAP",
        "outputId": "4001a667-1968-4ba7-f448-f587fac2453b"
      },
      "source": [
        "labels = ['Confirmed', 'Deaths', 'Recovered']\n",
        "value = [sum_confirm, sum_deaths, sum_recovered]\n",
        "\n",
        "plt.bar(labels, value)\n",
        "plt.show()"
      ],
      "execution_count": 61,
      "outputs": [
        {
          "output_type": "display_data",
          "data": {
            "image/png": "[encoded data removed]",
            "text/plain": [
              "<Figure size 432x288 with 1 Axes>"
            ]
          },
          "metadata": {
            "tags": [],
            "needs_background": "light"
          }
        }
      ]
    },
    {
      "cell_type": "code",
      "metadata": {
        "colab": {
          "base_uri": "https://localhost:8080/",
          "height": 347
        },
        "id": "oK5l6U8rtNKt",
        "outputId": "b1326342-9fe4-4916-81b3-b8a26933a6f9"
      },
      "source": [
        "import seaborn as sns\n",
        "\n",
        "sns.barplot(labels, value)"
      ],
      "execution_count": 62,
      "outputs": [
        {
          "output_type": "stream",
          "text": [
            "/usr/local/lib/python3.7/dist-packages/seaborn/_decorators.py:43: FutureWarning: Pass the following variables as keyword args: x, y. From version 0.12, the only valid positional argument will be `data`, and passing other arguments without an explicit keyword will result in an error or misinterpretation.\n",
            "  FutureWarning\n"
          ],
          "name": "stderr"
        },
        {
          "output_type": "execute_result",
          "data": {
            "text/plain": [
              "<matplotlib.axes._subplots.AxesSubplot at 0x7f92897f5490>"
            ]
          },
          "metadata": {
            "tags": []
          },
          "execution_count": 62
        },
        {
          "output_type": "display_data",
          "data": {
            "image/png": "[encoded data removed]",
            "text/plain": [
              "<Figure size 432x288 with 1 Axes>"
            ]
          },
          "metadata": {
            "tags": [],
            "needs_background": "light"
          }
        }
      ]
    },
    {
      "cell_type": "code",
      "metadata": {
        "colab": {
          "base_uri": "https://localhost:8080/",
          "height": 575
        },
        "id": "KbMdwR57q2p8",
        "outputId": "d4e059f3-f4bc-40a7-8688-399339c69a18"
      },
      "source": [
        "color= ['blue','red','green']\n",
        "explode = []\n",
        "\n",
        "for i in labels:\n",
        "    explode.append(0.05)\n",
        "    \n",
        "plt.figure(figsize= (15,10))\n",
        "plt.pie(value, labels=labels, autopct='%5.1f%%', startangle=9, explode =explode,colors = color)\n",
        "centre_circle = plt.Circle((0,0),0.70,fc='white')"
      ],
      "execution_count": 63,
      "outputs": [
        {
          "output_type": "display_data",
          "data": {
            "image/png": "[encoded data removed]",
            "text/plain": [
              "<Figure size 1080x720 with 1 Axes>"
            ]
          },
          "metadata": {
            "tags": []
          }
        }
      ]
    },
    {
      "cell_type": "code",
      "metadata": {
        "id": "PByApHslrFql"
      },
      "source": [
        ""
      ],
      "execution_count": 63,
      "outputs": []
    }
  ]
}